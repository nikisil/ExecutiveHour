{
 "cells": [
  {
   "attachments": {},
   "cell_type": "markdown",
   "metadata": {},
   "source": [
    "# This Notebook loads in, treats and consolidates all different datasets used in this project. It imports scripts that have been written throughout, and calls them when necessary (to avoid cluttering). All scripts are contained within this folder."
   ]
  },
  {
   "attachments": {},
   "cell_type": "markdown",
   "metadata": {},
   "source": [
    "## First, we load in all of our scripts (these scripts rely on external python packages. The list of these packages is available in the project's Readme)"
   ]
  },
  {
   "cell_type": "code",
   "execution_count": 1,
   "metadata": {},
   "outputs": [],
   "source": [
    "import helpers\n",
    "import preprocess\n",
    "import weather\n",
    "import train_test_validate_split\n",
    "from datetime import datetime\n",
    "import pandas as pd"
   ]
  },
  {
   "attachments": {},
   "cell_type": "markdown",
   "metadata": {},
   "source": [
    "### Now, we generate a dataframe containing all potentially relevant weather data from our location of interest (here, NYC)"
   ]
  },
  {
   "cell_type": "code",
   "execution_count": 2,
   "metadata": {},
   "outputs": [],
   "source": [
    "# The data will be saved into the raw_data folder\n",
    "weather_data = weather.generate_aggregated_weather_data('New York City',25000,datetime(2020,10,26),datetime(2023,10,1),savefile='raw_data/NYC_weather_data')"
   ]
  },
  {
   "attachments": {},
   "cell_type": "markdown",
   "metadata": {},
   "source": [
    "#### This Dataframe contains aggregated (and averaged) hourly weather data from weather stations within 25km of New York City. We calculated precipitation, temperature and pressure anomalies (essentially scaled variables grouped by week or month). Also included categorical variables like 'snowing' or 'raining' to see if those had any effect. Our chosen date range was from 2020-10-26 to 2023-10-01"
   ]
  },
  {
   "cell_type": "code",
   "execution_count": 8,
   "metadata": {},
   "outputs": [
    {
     "data": {
      "text/html": [
       "<div>\n",
       "<style scoped>\n",
       "    .dataframe tbody tr th:only-of-type {\n",
       "        vertical-align: middle;\n",
       "    }\n",
       "\n",
       "    .dataframe tbody tr th {\n",
       "        vertical-align: top;\n",
       "    }\n",
       "\n",
       "    .dataframe thead th {\n",
       "        text-align: right;\n",
       "    }\n",
       "</style>\n",
       "<table border=\"1\" class=\"dataframe\">\n",
       "  <thead>\n",
       "    <tr style=\"text-align: right;\">\n",
       "      <th></th>\n",
       "      <th>temp</th>\n",
       "      <th>dwpt</th>\n",
       "      <th>rhum</th>\n",
       "      <th>prcp</th>\n",
       "      <th>wdir</th>\n",
       "      <th>wspd</th>\n",
       "      <th>pres</th>\n",
       "      <th>coco</th>\n",
       "      <th>dtime</th>\n",
       "      <th>week</th>\n",
       "      <th>...</th>\n",
       "      <th>weekly_Prec_anom</th>\n",
       "      <th>monthly_Prec_anom</th>\n",
       "      <th>weekly_Wind_anom</th>\n",
       "      <th>monthly_Wind_anom</th>\n",
       "      <th>weekly_Pressure_anom</th>\n",
       "      <th>monthly_Pressure_anom</th>\n",
       "      <th>snowing</th>\n",
       "      <th>raining</th>\n",
       "      <th>hail</th>\n",
       "      <th>cloudy</th>\n",
       "    </tr>\n",
       "  </thead>\n",
       "  <tbody>\n",
       "    <tr>\n",
       "      <th>11860</th>\n",
       "      <td>-5.7</td>\n",
       "      <td>-15.6</td>\n",
       "      <td>45.5</td>\n",
       "      <td>0.0</td>\n",
       "      <td>322.7</td>\n",
       "      <td>12.7</td>\n",
       "      <td>1033.2</td>\n",
       "      <td>1.0</td>\n",
       "      <td>2022-03-04 04:00:00-05:00</td>\n",
       "      <td>9</td>\n",
       "      <td>...</td>\n",
       "      <td>-0.194052</td>\n",
       "      <td>-0.246471</td>\n",
       "      <td>-0.356613</td>\n",
       "      <td>-0.325500</td>\n",
       "      <td>2.327779</td>\n",
       "      <td>2.030431</td>\n",
       "      <td>0</td>\n",
       "      <td>0</td>\n",
       "      <td>0</td>\n",
       "      <td>0</td>\n",
       "    </tr>\n",
       "    <tr>\n",
       "      <th>13605</th>\n",
       "      <td>18.9</td>\n",
       "      <td>15.4</td>\n",
       "      <td>80.5</td>\n",
       "      <td>0.0</td>\n",
       "      <td>71.7</td>\n",
       "      <td>6.8</td>\n",
       "      <td>1010.0</td>\n",
       "      <td>4.0</td>\n",
       "      <td>2022-05-15 21:00:00-05:00</td>\n",
       "      <td>19</td>\n",
       "      <td>...</td>\n",
       "      <td>-0.174209</td>\n",
       "      <td>-0.254405</td>\n",
       "      <td>-0.839338</td>\n",
       "      <td>-0.947531</td>\n",
       "      <td>-1.803713</td>\n",
       "      <td>-1.330262</td>\n",
       "      <td>0</td>\n",
       "      <td>0</td>\n",
       "      <td>0</td>\n",
       "      <td>1</td>\n",
       "    </tr>\n",
       "    <tr>\n",
       "      <th>9467</th>\n",
       "      <td>4.5</td>\n",
       "      <td>-7.4</td>\n",
       "      <td>42.3</td>\n",
       "      <td>0.0</td>\n",
       "      <td>334.5</td>\n",
       "      <td>14.0</td>\n",
       "      <td>1027.6</td>\n",
       "      <td>2.0</td>\n",
       "      <td>2021-11-24 11:00:00-05:00</td>\n",
       "      <td>47</td>\n",
       "      <td>...</td>\n",
       "      <td>-0.204042</td>\n",
       "      <td>-0.236633</td>\n",
       "      <td>-0.031023</td>\n",
       "      <td>0.205798</td>\n",
       "      <td>1.166241</td>\n",
       "      <td>1.057568</td>\n",
       "      <td>0</td>\n",
       "      <td>0</td>\n",
       "      <td>0</td>\n",
       "      <td>0</td>\n",
       "    </tr>\n",
       "  </tbody>\n",
       "</table>\n",
       "<p>3 rows × 23 columns</p>\n",
       "</div>"
      ],
      "text/plain": [
       "       temp  dwpt  rhum  prcp   wdir  wspd    pres  coco  \\\n",
       "11860  -5.7 -15.6  45.5   0.0  322.7  12.7  1033.2   1.0   \n",
       "13605  18.9  15.4  80.5   0.0   71.7   6.8  1010.0   4.0   \n",
       "9467    4.5  -7.4  42.3   0.0  334.5  14.0  1027.6   2.0   \n",
       "\n",
       "                          dtime  week  ...  weekly_Prec_anom  \\\n",
       "11860 2022-03-04 04:00:00-05:00     9  ...         -0.194052   \n",
       "13605 2022-05-15 21:00:00-05:00    19  ...         -0.174209   \n",
       "9467  2021-11-24 11:00:00-05:00    47  ...         -0.204042   \n",
       "\n",
       "       monthly_Prec_anom  weekly_Wind_anom  monthly_Wind_anom  \\\n",
       "11860          -0.246471         -0.356613          -0.325500   \n",
       "13605          -0.254405         -0.839338          -0.947531   \n",
       "9467           -0.236633         -0.031023           0.205798   \n",
       "\n",
       "       weekly_Pressure_anom  monthly_Pressure_anom  snowing  raining  hail  \\\n",
       "11860              2.327779               2.030431        0        0     0   \n",
       "13605             -1.803713              -1.330262        0        0     0   \n",
       "9467               1.166241               1.057568        0        0     0   \n",
       "\n",
       "       cloudy  \n",
       "11860       0  \n",
       "13605       1  \n",
       "9467        0  \n",
       "\n",
       "[3 rows x 23 columns]"
      ]
     },
     "execution_count": 8,
     "metadata": {},
     "output_type": "execute_result"
    }
   ],
   "source": [
    "weather_data.sample(3)"
   ]
  },
  {
   "attachments": {},
   "cell_type": "markdown",
   "metadata": {},
   "source": [
    "### We now merge this weather dataframe with energy price (day-ahead & real-time) and network load data taken from the NRG website (https://www.nrg.com/resources/energy-tools/tracking-the-market.html)"
   ]
  },
  {
   "cell_type": "code",
   "execution_count": 2,
   "metadata": {},
   "outputs": [
    {
     "name": "stdout",
     "output_type": "stream",
     "text": [
      "Create new features of day ahead price and load features at specified hours...\n",
      "Missing 190 times.\n",
      "Expand time featuer to new columns of day, week, date, hour ...\n",
      "Processed the various data files.\n",
      "<class 'pandas.core.frame.DataFrame'>\n",
      "Index: 25661 entries, 168 to 25828\n",
      "Data columns (total 42 columns):\n",
      " #   Column                       Non-Null Count  Dtype         \n",
      "---  ------                       --------------  -----         \n",
      " 0   Unnamed: 0                   25639 non-null  float64       \n",
      " 1   temp                         25639 non-null  float64       \n",
      " 2   dwpt                         25639 non-null  float64       \n",
      " 3   time                         25661 non-null  datetime64[ns]\n",
      " 4   DA_price                     25639 non-null  float64       \n",
      " 5   RT_price                     25639 non-null  float64       \n",
      " 6   load                         25378 non-null  float64       \n",
      " 7   nat_gas_spot_price           25639 non-null  float64       \n",
      " 8   monthly_avg_NY_natgas_price  24913 non-null  float64       \n",
      " 9   price(h-1)                   25638 non-null  float64       \n",
      " 10  load(h-1)                    25377 non-null  float64       \n",
      " 11  price(h-2)                   25637 non-null  float64       \n",
      " 12  load(h-2)                    25376 non-null  float64       \n",
      " 13  price(h-19)                  25620 non-null  float64       \n",
      " 14  load(h-19)                   25359 non-null  float64       \n",
      " 15  price(h-20)                  25619 non-null  float64       \n",
      " 16  load(h-20)                   25358 non-null  float64       \n",
      " 17  price(h-21)                  25618 non-null  float64       \n",
      " 18  load(h-21)                   25357 non-null  float64       \n",
      " 19  price(h-22)                  25617 non-null  float64       \n",
      " 20  load(h-22)                   25356 non-null  float64       \n",
      " 21  price(h-23)                  25616 non-null  float64       \n",
      " 22  load(h-23)                   25355 non-null  float64       \n",
      " 23  price(h-24)                  25615 non-null  float64       \n",
      " 24  load(h-24)                   25354 non-null  float64       \n",
      " 25  price(h-25)                  25614 non-null  float64       \n",
      " 26  load(h-25)                   25353 non-null  float64       \n",
      " 27  price(h-26)                  25613 non-null  float64       \n",
      " 28  load(h-26)                   25352 non-null  float64       \n",
      " 29  price(h-49)                  25590 non-null  float64       \n",
      " 30  load(h-49)                   25329 non-null  float64       \n",
      " 31  price(h-168)                 25471 non-null  float64       \n",
      " 32  load(h-168)                  25210 non-null  float64       \n",
      " 33  date                         25661 non-null  object        \n",
      " 34  hour                         25661 non-null  int64         \n",
      " 35  day                          25661 non-null  int32         \n",
      " 36  weekday                      25661 non-null  int64         \n",
      " 37  month                        25661 non-null  int64         \n",
      " 38  day_of_week                  25661 non-null  int32         \n",
      " 39  holiday                      25661 non-null  int64         \n",
      " 40  business_hour                25661 non-null  int64         \n",
      " 41  season                       25661 non-null  int64         \n",
      "dtypes: datetime64[ns](1), float64(32), int32(2), int64(6), object(1)\n",
      "memory usage: 8.2+ MB\n",
      "We now have the dataframe:\n",
      " None\n",
      "********************\n",
      "There are 0 missing values or NaNs in the DataFrame.\n"
     ]
    }
   ],
   "source": [
    "merged = preprocess.preprocess_data('raw_data/','raw_data/dat_set_3/',savefile='raw_data/merged_energy_weather_data')"
   ]
  },
  {
   "attachments": {},
   "cell_type": "markdown",
   "metadata": {},
   "source": [
    "### We do one final clean up and add columns to our dataframe which tie a specific hourly instance to hourly instances 1, 2, 3, 4, 5, 6 & 7 days in the past for Day-Ahead and Real-Time prices, as well as for load."
   ]
  },
  {
   "cell_type": "code",
   "execution_count": 6,
   "metadata": {},
   "outputs": [],
   "source": [
    "cleaned_final = helpers.get_prev_day_cols(merged)\n",
    "h24final = helpers.get_future_h_cols(cleaned_final,[i for i in range(1,25,1)],cols=['DA_price'])\n",
    "evofin = helpers.get_prev_hour_cols(h24final,[i for i in range(1,49,1)],['DA_price'])"
   ]
  },
  {
   "cell_type": "code",
   "execution_count": 10,
   "metadata": {},
   "outputs": [],
   "source": [
    "evofin.to_csv('raw_data/final_complete_dataset_hourly_evolution.csv')"
   ]
  },
  {
   "attachments": {},
   "cell_type": "markdown",
   "metadata": {},
   "source": [
    "### The last step builds common training, validation and testing datasets so that all of our models can be compared fairly and without potential biases generated by individual splits"
   ]
  },
  {
   "cell_type": "code",
   "execution_count": 10,
   "metadata": {},
   "outputs": [],
   "source": [
    "train_test_validate_split.split_train_test_val_bydate('2022-11-30','2023-08-30','raw_data/final_complete_dataset_hourly_evolution.csv',['time','date'],'date','final_data/')"
   ]
  },
  {
   "attachments": {},
   "cell_type": "markdown",
   "metadata": {},
   "source": [
    "# All final datasets are saved into the final_data folder inside the data_processing folder. These csvs can be read-in as dataframes and manipulated according to the needs of specific models."
   ]
  },
  {
   "cell_type": "markdown",
   "metadata": {},
   "source": []
  }
 ],
 "metadata": {
  "kernelspec": {
   "display_name": "Python 3",
   "language": "python",
   "name": "python3"
  },
  "language_info": {
   "codemirror_mode": {
    "name": "ipython",
    "version": 3
   },
   "file_extension": ".py",
   "mimetype": "text/x-python",
   "name": "python",
   "nbconvert_exporter": "python",
   "pygments_lexer": "ipython3",
   "version": "3.11.6"
  },
  "orig_nbformat": 4
 },
 "nbformat": 4,
 "nbformat_minor": 2
}
