{
 "cells": [
  {
   "cell_type": "code",
   "execution_count": 1,
   "id": "2b696816",
   "metadata": {},
   "outputs": [],
   "source": [
    "import pandas as pd\n",
    "from pandas.tseries.holiday import USFederalHolidayCalendar as calendar\n",
    "\n",
    "load_data = pd.read_csv(\"load.csv\")\n",
    "price_data = pd.read_csv(\"price.csv\")\n",
    "\n",
    "load_data.time = pd.to_datetime(load_data.time)\n",
    "price_data.time = pd.to_datetime(price_data.time)\n",
    "\n",
    "load_data['date'] = load_data['time'].dt.date\n",
    "load_data['hour'] = load_data['time'].dt.strftime(\"%H\")\n",
    "load_data['minute'] = load_data['time'].dt.strftime(\"%M\")\n",
    "load_data['seconds'] = load_data['time'].dt.strftime(\"%S\")\n",
    "price_data['date'] = price_data['time'].dt.date\n",
    "price_data['hour'] = price_data['time'].dt.strftime(\"%H\")\n",
    "price_data['minute'] = price_data['time'].dt.strftime(\"%M\")\n",
    "price_data['seconds'] = price_data['time'].dt.strftime(\"%S\")\n",
    "\n",
    "new_prices = price_data.loc[ (price_data.seconds == '00') & (price_data.minute == '00')]\n",
    "new_prices.reset_index(drop=True)\n",
    "\n",
    "new_load = load_data.loc[ (load_data.seconds == '00') & (load_data.minute == '00')]\n",
    "new_load.reset_index(drop=True)\n",
    "\n",
    "combined = new_load\n",
    "combined = combined.merge(new_prices, left_on='time', right_on='time')\n",
    "combined = combined.drop_duplicates(subset=['time'], keep='first')\n",
    "combined.reset_index(drop=True)\n",
    "\n",
    "combined = combined.rename(columns={\"value_x\" : \"load\", \"date_x\" : \"date\", \"hour_x\" : \"hour\", \"minute_x\" : \"minute\", \"seconds_x\" : \"second\", \"value_y\" : \"price\"})\n",
    "combined = combined.drop(columns={\"label_x\", \"type_x\", \"label_y\", \"type_y\", \"date_y\", \"hour_y\", \"minute_y\", \"seconds_y\"})\n",
    "combined = combined.drop(columns={\"minute\", \"second\"})\n",
    "combined = combined[['time', 'date', 'hour', 'load', 'price']]\n",
    "combined.hour = combined.hour.astype('int')\n",
    "combined.hour.replace(0,24, inplace=True)\n",
    "\n",
    "dr = pd.date_range(start='2020-11-01', end='2023-11-01')\n",
    "cal = calendar()\n",
    "holidays = cal.holidays(start=dr.min(), end=dr.max())\n",
    "\n",
    "combined['holiday'] = combined['date'].astype('datetime64').isin(holidays).astype('int')\n",
    "\n",
    "combined['day_of_week'] = combined.time.dt.dayofweek + 1"
   ]
  },
  {
   "cell_type": "code",
   "execution_count": 2,
   "id": "25e273bf",
   "metadata": {},
   "outputs": [],
   "source": [
    "combined = combined.reset_index(drop=True)"
   ]
  },
  {
   "cell_type": "code",
   "execution_count": 3,
   "id": "88ffdf5e",
   "metadata": {},
   "outputs": [],
   "source": [
    "combined2 = combined.iloc[24*7:,:]"
   ]
  },
  {
   "cell_type": "code",
   "execution_count": 4,
   "id": "0e4add98",
   "metadata": {},
   "outputs": [
    {
     "name": "stderr",
     "output_type": "stream",
     "text": [
      "/var/folders/vn/24pgf0213xzgjbvpt_5fqd640000gn/T/ipykernel_2759/1562718623.py:1: SettingWithCopyWarning: \n",
      "A value is trying to be set on a copy of a slice from a DataFrame.\n",
      "Try using .loc[row_indexer,col_indexer] = value instead\n",
      "\n",
      "See the caveats in the documentation: https://pandas.pydata.org/pandas-docs/stable/user_guide/indexing.html#returning-a-view-versus-a-copy\n",
      "  combined2['load(d-1,h)'] = -1.0\n",
      "/var/folders/vn/24pgf0213xzgjbvpt_5fqd640000gn/T/ipykernel_2759/1562718623.py:2: SettingWithCopyWarning: \n",
      "A value is trying to be set on a copy of a slice from a DataFrame.\n",
      "Try using .loc[row_indexer,col_indexer] = value instead\n",
      "\n",
      "See the caveats in the documentation: https://pandas.pydata.org/pandas-docs/stable/user_guide/indexing.html#returning-a-view-versus-a-copy\n",
      "  combined2['load(d-7,h)'] = -1.0\n",
      "/var/folders/vn/24pgf0213xzgjbvpt_5fqd640000gn/T/ipykernel_2759/1562718623.py:3: SettingWithCopyWarning: \n",
      "A value is trying to be set on a copy of a slice from a DataFrame.\n",
      "Try using .loc[row_indexer,col_indexer] = value instead\n",
      "\n",
      "See the caveats in the documentation: https://pandas.pydata.org/pandas-docs/stable/user_guide/indexing.html#returning-a-view-versus-a-copy\n",
      "  combined2['price(d-1,h)'] = -1.0\n",
      "/var/folders/vn/24pgf0213xzgjbvpt_5fqd640000gn/T/ipykernel_2759/1562718623.py:4: SettingWithCopyWarning: \n",
      "A value is trying to be set on a copy of a slice from a DataFrame.\n",
      "Try using .loc[row_indexer,col_indexer] = value instead\n",
      "\n",
      "See the caveats in the documentation: https://pandas.pydata.org/pandas-docs/stable/user_guide/indexing.html#returning-a-view-versus-a-copy\n",
      "  combined2['price(d-7,h)'] = -1.0\n",
      "/var/folders/vn/24pgf0213xzgjbvpt_5fqd640000gn/T/ipykernel_2759/1562718623.py:5: SettingWithCopyWarning: \n",
      "A value is trying to be set on a copy of a slice from a DataFrame.\n",
      "Try using .loc[row_indexer,col_indexer] = value instead\n",
      "\n",
      "See the caveats in the documentation: https://pandas.pydata.org/pandas-docs/stable/user_guide/indexing.html#returning-a-view-versus-a-copy\n",
      "  combined2['avg_load(d-1)'] = -1.0\n",
      "/var/folders/vn/24pgf0213xzgjbvpt_5fqd640000gn/T/ipykernel_2759/1562718623.py:6: SettingWithCopyWarning: \n",
      "A value is trying to be set on a copy of a slice from a DataFrame.\n",
      "Try using .loc[row_indexer,col_indexer] = value instead\n",
      "\n",
      "See the caveats in the documentation: https://pandas.pydata.org/pandas-docs/stable/user_guide/indexing.html#returning-a-view-versus-a-copy\n",
      "  combined2['avg_price(d-1)'] = -1.0\n"
     ]
    }
   ],
   "source": [
    "combined2['load(d-1,h)'] = -1.0\n",
    "combined2['load(d-7,h)'] = -1.0\n",
    "combined2['price(d-1,h)'] = -1.0\n",
    "combined2['price(d-7,h)'] = -1.0\n",
    "combined2['avg_load(d-1)'] = -1.0\n",
    "combined2['avg_price(d-1)'] = -1.0"
   ]
  },
  {
   "cell_type": "code",
   "execution_count": 5,
   "id": "9e0d8fa9",
   "metadata": {},
   "outputs": [],
   "source": [
    "for index, row in combined2.iterrows():\n",
    "    combined2.at[index,'load(d-1,h)'] = combined.iloc[index - 24, 3]\n",
    "    combined2.at[index,'load(d-7,h)'] = combined.iloc[index - 24*7, 3]\n",
    "    combined2.at[index,'price(d-1,h)'] = combined.iloc[index - 24, 4]\n",
    "    combined2.at[index,'price(d-7,h)'] = combined.iloc[index - 24*7, 4]"
   ]
  },
  {
   "cell_type": "code",
   "execution_count": 6,
   "id": "094ea272",
   "metadata": {},
   "outputs": [],
   "source": [
    "combined2 = combined2[['time', 'date', 'day_of_week', 'hour', 'holiday', 'load(d-1,h)', 'load(d-7,h)', 'avg_load(d-1)', 'price(d-1,h)', 'price(d-7,h)', 'avg_price(d-1)', 'load', 'price']]"
   ]
  },
  {
   "cell_type": "code",
   "execution_count": 7,
   "id": "43b7475e",
   "metadata": {},
   "outputs": [],
   "source": [
    "avg_load = combined.iloc[167-24 : 167, 3].mean()\n",
    "avg_price = combined.iloc[167-24 : 167, 4].mean()\n",
    "\n",
    "for index, row in combined2.iterrows():\n",
    "    if (index >= 191) and ((index + 1) % 24 == 0):\n",
    "        avg_load = combined.iloc[index-24 : index, 3].mean()\n",
    "        avg_price = combined.iloc[index-24 : index, 4].mean()\n",
    "    \n",
    "    combined2.at[index, 'avg_load(d-1)'] = avg_load\n",
    "    combined2.at[index, 'avg_price(d-1)'] = avg_price\n"
   ]
  },
  {
   "cell_type": "code",
   "execution_count": 8,
   "id": "189085ee",
   "metadata": {},
   "outputs": [],
   "source": [
    "combined2.to_csv(\"nyc_load_price.csv\")"
   ]
  }
 ],
 "metadata": {
  "kernelspec": {
   "display_name": "Python 3 (ipykernel)",
   "language": "python",
   "name": "python3"
  },
  "language_info": {
   "codemirror_mode": {
    "name": "ipython",
    "version": 3
   },
   "file_extension": ".py",
   "mimetype": "text/x-python",
   "name": "python",
   "nbconvert_exporter": "python",
   "pygments_lexer": "ipython3",
   "version": "3.10.9"
  }
 },
 "nbformat": 4,
 "nbformat_minor": 5
}
