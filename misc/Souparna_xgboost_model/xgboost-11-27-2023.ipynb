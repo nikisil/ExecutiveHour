{
 "cells": [
  {
   "cell_type": "markdown",
   "id": "bc7dee41",
   "metadata": {},
   "source": [
    "# Using XGBoost to predict Day Ahead prices (and comparisons with Linear Regression and Baseline)"
   ]
  },
  {
   "cell_type": "code",
   "execution_count": 1,
   "id": "758565ed",
   "metadata": {},
   "outputs": [],
   "source": [
    "import pandas as pd\n",
    "import numpy as np\n",
    "import matplotlib.pyplot as plt\n",
    "import xgboost as xgb\n",
    "from sklearn.metrics import mean_squared_error\n",
    "from sklearn.linear_model import LinearRegression"
   ]
  },
  {
   "cell_type": "code",
   "execution_count": 2,
   "id": "5e6e8c06",
   "metadata": {},
   "outputs": [],
   "source": [
    "df_train = pd.read_csv(\"../ordered_train_set.csv\", index_col=0)\n",
    "df_validation = pd.read_csv(\"../ordered_seasonal_validation_set.csv\", index_col=0)\n",
    "df_test = pd.read_csv(\"../ordered_test_set.csv\", index_col=0)"
   ]
  },
  {
   "cell_type": "markdown",
   "id": "ef74bbc2",
   "metadata": {},
   "source": [
    "## Features \n",
    "\n",
    "The goal is to figure out what features (i.e., X) we can use to predict the Day Ahead price (DA_price) for a given hour (i.e., y). The following set of features are chosen based on experimentation and correlation analyses. "
   ]
  },
  {
   "cell_type": "code",
   "execution_count": 3,
   "id": "be49cdb9",
   "metadata": {},
   "outputs": [],
   "source": [
    "features = ['actual_load', 'hour',\n",
    "       'month', 'day_of_week', 'holiday', 'business_hour', 'season', 'temp',\n",
    "       'dwpt', 'avg_DA_price(h-24)', 'avg_load(h-24)',\n",
    "       'RT_price(t-1D)', 'DA_price(t-1D)', 'load(t-1D)', 'RT_price(t-2D)',\n",
    "       'DA_price(t-2D)', 'load(t-2D)', 'RT_price(t-3D)', 'DA_price(t-3D)',\n",
    "       'load(t-3D)', 'RT_price(t-4D)', 'DA_price(t-4D)', 'load(t-4D)',\n",
    "       'RT_price(t-5D)', 'DA_price(t-5D)', 'load(t-5D)', 'RT_price(t-6D)',\n",
    "       'DA_price(t-6D)', 'load(t-6D)', 'RT_price(t-7D)', 'DA_price(t-7D)',\n",
    "       'load(t-7D)', 'nat_gas_spot_price', 'monthly_avg_NY_natgas_price']"
   ]
  },
  {
   "cell_type": "code",
   "execution_count": 4,
   "id": "e3e50c94",
   "metadata": {},
   "outputs": [],
   "source": [
    "X_train = df_train[features]\n",
    "y_train = df_train['DA_price']"
   ]
  },
  {
   "cell_type": "code",
   "execution_count": 5,
   "id": "08afd97e",
   "metadata": {},
   "outputs": [],
   "source": [
    "X_validation = df_validation[features]\n",
    "y_validation = df_validation['DA_price']"
   ]
  },
  {
   "cell_type": "code",
   "execution_count": 6,
   "id": "b5915757",
   "metadata": {},
   "outputs": [],
   "source": [
    "X_test = df_test[features]\n",
    "y_test = df_test['DA_price']"
   ]
  },
  {
   "cell_type": "markdown",
   "id": "8b67667f",
   "metadata": {},
   "source": [
    "## XGBoost predictions on validation and test sets"
   ]
  },
  {
   "cell_type": "code",
   "execution_count": 7,
   "id": "96b74cd4",
   "metadata": {},
   "outputs": [],
   "source": [
    "model = xgb.XGBRegressor(base_score=0.5, booster='gbtree',    \n",
    "                       n_estimators=1000,\n",
    "                       objective='reg:linear',\n",
    "                       early_stopping_rounds=100,\n",
    "                       max_depth=3,\n",
    "                       learning_rate=0.01)"
   ]
  },
  {
   "cell_type": "code",
   "execution_count": 8,
   "id": "a728d804",
   "metadata": {
    "scrolled": false
   },
   "outputs": [
    {
     "name": "stdout",
     "output_type": "stream",
     "text": [
      "[23:51:08] WARNING: /var/folders/nz/j6p8yfhx1mv_0grj5xl4650h0000gp/T/abs_21wtzqx5vy/croot/xgboost-split_1675457780668/work/src/objective/regression_obj.cu:213: reg:linear is now deprecated in favor of reg:squarederror.\n",
      "[0]\tvalidation_0-rmse:56.58786\tvalidation_1-rmse:45.58367\n",
      "[100]\tvalidation_0-rmse:26.28004\tvalidation_1-rmse:23.01760\n",
      "[200]\tvalidation_0-rmse:17.08766\tvalidation_1-rmse:18.38465\n",
      "[300]\tvalidation_0-rmse:14.48207\tvalidation_1-rmse:17.63989\n",
      "[400]\tvalidation_0-rmse:13.53040\tvalidation_1-rmse:17.61368\n",
      "[461]\tvalidation_0-rmse:13.18789\tvalidation_1-rmse:17.65416\n"
     ]
    },
    {
     "data": {
      "text/html": [
       "<style>#sk-container-id-1 {color: black;}#sk-container-id-1 pre{padding: 0;}#sk-container-id-1 div.sk-toggleable {background-color: white;}#sk-container-id-1 label.sk-toggleable__label {cursor: pointer;display: block;width: 100%;margin-bottom: 0;padding: 0.3em;box-sizing: border-box;text-align: center;}#sk-container-id-1 label.sk-toggleable__label-arrow:before {content: \"▸\";float: left;margin-right: 0.25em;color: #696969;}#sk-container-id-1 label.sk-toggleable__label-arrow:hover:before {color: black;}#sk-container-id-1 div.sk-estimator:hover label.sk-toggleable__label-arrow:before {color: black;}#sk-container-id-1 div.sk-toggleable__content {max-height: 0;max-width: 0;overflow: hidden;text-align: left;background-color: #f0f8ff;}#sk-container-id-1 div.sk-toggleable__content pre {margin: 0.2em;color: black;border-radius: 0.25em;background-color: #f0f8ff;}#sk-container-id-1 input.sk-toggleable__control:checked~div.sk-toggleable__content {max-height: 200px;max-width: 100%;overflow: auto;}#sk-container-id-1 input.sk-toggleable__control:checked~label.sk-toggleable__label-arrow:before {content: \"▾\";}#sk-container-id-1 div.sk-estimator input.sk-toggleable__control:checked~label.sk-toggleable__label {background-color: #d4ebff;}#sk-container-id-1 div.sk-label input.sk-toggleable__control:checked~label.sk-toggleable__label {background-color: #d4ebff;}#sk-container-id-1 input.sk-hidden--visually {border: 0;clip: rect(1px 1px 1px 1px);clip: rect(1px, 1px, 1px, 1px);height: 1px;margin: -1px;overflow: hidden;padding: 0;position: absolute;width: 1px;}#sk-container-id-1 div.sk-estimator {font-family: monospace;background-color: #f0f8ff;border: 1px dotted black;border-radius: 0.25em;box-sizing: border-box;margin-bottom: 0.5em;}#sk-container-id-1 div.sk-estimator:hover {background-color: #d4ebff;}#sk-container-id-1 div.sk-parallel-item::after {content: \"\";width: 100%;border-bottom: 1px solid gray;flex-grow: 1;}#sk-container-id-1 div.sk-label:hover label.sk-toggleable__label {background-color: #d4ebff;}#sk-container-id-1 div.sk-serial::before {content: \"\";position: absolute;border-left: 1px solid gray;box-sizing: border-box;top: 0;bottom: 0;left: 50%;z-index: 0;}#sk-container-id-1 div.sk-serial {display: flex;flex-direction: column;align-items: center;background-color: white;padding-right: 0.2em;padding-left: 0.2em;position: relative;}#sk-container-id-1 div.sk-item {position: relative;z-index: 1;}#sk-container-id-1 div.sk-parallel {display: flex;align-items: stretch;justify-content: center;background-color: white;position: relative;}#sk-container-id-1 div.sk-item::before, #sk-container-id-1 div.sk-parallel-item::before {content: \"\";position: absolute;border-left: 1px solid gray;box-sizing: border-box;top: 0;bottom: 0;left: 50%;z-index: -1;}#sk-container-id-1 div.sk-parallel-item {display: flex;flex-direction: column;z-index: 1;position: relative;background-color: white;}#sk-container-id-1 div.sk-parallel-item:first-child::after {align-self: flex-end;width: 50%;}#sk-container-id-1 div.sk-parallel-item:last-child::after {align-self: flex-start;width: 50%;}#sk-container-id-1 div.sk-parallel-item:only-child::after {width: 0;}#sk-container-id-1 div.sk-dashed-wrapped {border: 1px dashed gray;margin: 0 0.4em 0.5em 0.4em;box-sizing: border-box;padding-bottom: 0.4em;background-color: white;}#sk-container-id-1 div.sk-label label {font-family: monospace;font-weight: bold;display: inline-block;line-height: 1.2em;}#sk-container-id-1 div.sk-label-container {text-align: center;}#sk-container-id-1 div.sk-container {/* jupyter's `normalize.less` sets `[hidden] { display: none; }` but bootstrap.min.css set `[hidden] { display: none !important; }` so we also need the `!important` here to be able to override the default hidden behavior on the sphinx rendered scikit-learn.org. See: https://github.com/scikit-learn/scikit-learn/issues/21755 */display: inline-block !important;position: relative;}#sk-container-id-1 div.sk-text-repr-fallback {display: none;}</style><div id=\"sk-container-id-1\" class=\"sk-top-container\"><div class=\"sk-text-repr-fallback\"><pre>XGBRegressor(base_score=0.5, booster=&#x27;gbtree&#x27;, callbacks=None,\n",
       "             colsample_bylevel=None, colsample_bynode=None,\n",
       "             colsample_bytree=None, early_stopping_rounds=100,\n",
       "             enable_categorical=False, eval_metric=None, feature_types=None,\n",
       "             gamma=None, gpu_id=None, grow_policy=None, importance_type=None,\n",
       "             interaction_constraints=None, learning_rate=0.01, max_bin=None,\n",
       "             max_cat_threshold=None, max_cat_to_onehot=None,\n",
       "             max_delta_step=None, max_depth=3, max_leaves=None,\n",
       "             min_child_weight=None, missing=nan, monotone_constraints=None,\n",
       "             n_estimators=1000, n_jobs=None, num_parallel_tree=None,\n",
       "             objective=&#x27;reg:linear&#x27;, predictor=None, ...)</pre><b>In a Jupyter environment, please rerun this cell to show the HTML representation or trust the notebook. <br />On GitHub, the HTML representation is unable to render, please try loading this page with nbviewer.org.</b></div><div class=\"sk-container\" hidden><div class=\"sk-item\"><div class=\"sk-estimator sk-toggleable\"><input class=\"sk-toggleable__control sk-hidden--visually\" id=\"sk-estimator-id-1\" type=\"checkbox\" checked><label for=\"sk-estimator-id-1\" class=\"sk-toggleable__label sk-toggleable__label-arrow\">XGBRegressor</label><div class=\"sk-toggleable__content\"><pre>XGBRegressor(base_score=0.5, booster=&#x27;gbtree&#x27;, callbacks=None,\n",
       "             colsample_bylevel=None, colsample_bynode=None,\n",
       "             colsample_bytree=None, early_stopping_rounds=100,\n",
       "             enable_categorical=False, eval_metric=None, feature_types=None,\n",
       "             gamma=None, gpu_id=None, grow_policy=None, importance_type=None,\n",
       "             interaction_constraints=None, learning_rate=0.01, max_bin=None,\n",
       "             max_cat_threshold=None, max_cat_to_onehot=None,\n",
       "             max_delta_step=None, max_depth=3, max_leaves=None,\n",
       "             min_child_weight=None, missing=nan, monotone_constraints=None,\n",
       "             n_estimators=1000, n_jobs=None, num_parallel_tree=None,\n",
       "             objective=&#x27;reg:linear&#x27;, predictor=None, ...)</pre></div></div></div></div></div>"
      ],
      "text/plain": [
       "XGBRegressor(base_score=0.5, booster='gbtree', callbacks=None,\n",
       "             colsample_bylevel=None, colsample_bynode=None,\n",
       "             colsample_bytree=None, early_stopping_rounds=100,\n",
       "             enable_categorical=False, eval_metric=None, feature_types=None,\n",
       "             gamma=None, gpu_id=None, grow_policy=None, importance_type=None,\n",
       "             interaction_constraints=None, learning_rate=0.01, max_bin=None,\n",
       "             max_cat_threshold=None, max_cat_to_onehot=None,\n",
       "             max_delta_step=None, max_depth=3, max_leaves=None,\n",
       "             min_child_weight=None, missing=nan, monotone_constraints=None,\n",
       "             n_estimators=1000, n_jobs=None, num_parallel_tree=None,\n",
       "             objective='reg:linear', predictor=None, ...)"
      ]
     },
     "execution_count": 8,
     "metadata": {},
     "output_type": "execute_result"
    }
   ],
   "source": [
    "model.fit(X_train, y_train, eval_set=[(X_train, y_train), (X_validation, y_validation)],\n",
    "              verbose=100)"
   ]
  },
  {
   "cell_type": "markdown",
   "id": "17d8c56d",
   "metadata": {},
   "source": [
    "#### Feature importance for the XGBoost model"
   ]
  },
  {
   "cell_type": "code",
   "execution_count": 9,
   "id": "b40e927f",
   "metadata": {
    "scrolled": true
   },
   "outputs": [
    {
     "data": {
      "image/png": "[encoded data removed]",
      "text/plain": [
       "<Figure size 640x480 with 1 Axes>"
      ]
     },
     "metadata": {},
     "output_type": "display_data"
    }
   ],
   "source": [
    "fi = pd.DataFrame(data=model.feature_importances_,\n",
    "                            index=model.feature_names_in_,\n",
    "                            columns=['importance'])\n",
    "fi.sort_values('importance').plot(kind='barh', title='Feature Importance')\n",
    "plt.show()"
   ]
  },
  {
   "cell_type": "code",
   "execution_count": 10,
   "id": "763929cb",
   "metadata": {},
   "outputs": [
    {
     "name": "stdout",
     "output_type": "stream",
     "text": [
      "XGBoost RMSE on training: 13.825522686789641\n",
      "XGBoost RMSE on validation: 17.55101439149192\n",
      "XGBoost RMSE on test: 21.505649600698767\n"
     ]
    }
   ],
   "source": [
    "train_pred = model.predict(X_train)\n",
    "# Evaluating the XGBoost model on train data\n",
    "train_rmse = np.sqrt(mean_squared_error(y_train, train_pred))\n",
    "print(f\"XGBoost RMSE on training: {train_rmse}\")\n",
    "\n",
    "val_pred = model.predict(X_validation)\n",
    "# Evaluating the XGBoost model on validation data\n",
    "val_rmse = np.sqrt(mean_squared_error(y_validation, val_pred))\n",
    "print(f\"XGBoost RMSE on validation: {val_rmse}\")\n",
    "\n",
    "test_pred = model.predict(X_test)\n",
    "# Evaluating the XGBoost model on test data\n",
    "test_rmse = np.sqrt(mean_squared_error(y_test, test_pred))\n",
    "print(f\"XGBoost RMSE on test: {test_rmse}\")"
   ]
  },
  {
   "cell_type": "markdown",
   "id": "67ac4d32",
   "metadata": {},
   "source": [
    "## Linear Regression predictions on validation and test sets"
   ]
  },
  {
   "cell_type": "code",
   "execution_count": 11,
   "id": "7e839aa3",
   "metadata": {},
   "outputs": [
    {
     "data": {
      "text/html": [
       "<style>#sk-container-id-2 {color: black;}#sk-container-id-2 pre{padding: 0;}#sk-container-id-2 div.sk-toggleable {background-color: white;}#sk-container-id-2 label.sk-toggleable__label {cursor: pointer;display: block;width: 100%;margin-bottom: 0;padding: 0.3em;box-sizing: border-box;text-align: center;}#sk-container-id-2 label.sk-toggleable__label-arrow:before {content: \"▸\";float: left;margin-right: 0.25em;color: #696969;}#sk-container-id-2 label.sk-toggleable__label-arrow:hover:before {color: black;}#sk-container-id-2 div.sk-estimator:hover label.sk-toggleable__label-arrow:before {color: black;}#sk-container-id-2 div.sk-toggleable__content {max-height: 0;max-width: 0;overflow: hidden;text-align: left;background-color: #f0f8ff;}#sk-container-id-2 div.sk-toggleable__content pre {margin: 0.2em;color: black;border-radius: 0.25em;background-color: #f0f8ff;}#sk-container-id-2 input.sk-toggleable__control:checked~div.sk-toggleable__content {max-height: 200px;max-width: 100%;overflow: auto;}#sk-container-id-2 input.sk-toggleable__control:checked~label.sk-toggleable__label-arrow:before {content: \"▾\";}#sk-container-id-2 div.sk-estimator input.sk-toggleable__control:checked~label.sk-toggleable__label {background-color: #d4ebff;}#sk-container-id-2 div.sk-label input.sk-toggleable__control:checked~label.sk-toggleable__label {background-color: #d4ebff;}#sk-container-id-2 input.sk-hidden--visually {border: 0;clip: rect(1px 1px 1px 1px);clip: rect(1px, 1px, 1px, 1px);height: 1px;margin: -1px;overflow: hidden;padding: 0;position: absolute;width: 1px;}#sk-container-id-2 div.sk-estimator {font-family: monospace;background-color: #f0f8ff;border: 1px dotted black;border-radius: 0.25em;box-sizing: border-box;margin-bottom: 0.5em;}#sk-container-id-2 div.sk-estimator:hover {background-color: #d4ebff;}#sk-container-id-2 div.sk-parallel-item::after {content: \"\";width: 100%;border-bottom: 1px solid gray;flex-grow: 1;}#sk-container-id-2 div.sk-label:hover label.sk-toggleable__label {background-color: #d4ebff;}#sk-container-id-2 div.sk-serial::before {content: \"\";position: absolute;border-left: 1px solid gray;box-sizing: border-box;top: 0;bottom: 0;left: 50%;z-index: 0;}#sk-container-id-2 div.sk-serial {display: flex;flex-direction: column;align-items: center;background-color: white;padding-right: 0.2em;padding-left: 0.2em;position: relative;}#sk-container-id-2 div.sk-item {position: relative;z-index: 1;}#sk-container-id-2 div.sk-parallel {display: flex;align-items: stretch;justify-content: center;background-color: white;position: relative;}#sk-container-id-2 div.sk-item::before, #sk-container-id-2 div.sk-parallel-item::before {content: \"\";position: absolute;border-left: 1px solid gray;box-sizing: border-box;top: 0;bottom: 0;left: 50%;z-index: -1;}#sk-container-id-2 div.sk-parallel-item {display: flex;flex-direction: column;z-index: 1;position: relative;background-color: white;}#sk-container-id-2 div.sk-parallel-item:first-child::after {align-self: flex-end;width: 50%;}#sk-container-id-2 div.sk-parallel-item:last-child::after {align-self: flex-start;width: 50%;}#sk-container-id-2 div.sk-parallel-item:only-child::after {width: 0;}#sk-container-id-2 div.sk-dashed-wrapped {border: 1px dashed gray;margin: 0 0.4em 0.5em 0.4em;box-sizing: border-box;padding-bottom: 0.4em;background-color: white;}#sk-container-id-2 div.sk-label label {font-family: monospace;font-weight: bold;display: inline-block;line-height: 1.2em;}#sk-container-id-2 div.sk-label-container {text-align: center;}#sk-container-id-2 div.sk-container {/* jupyter's `normalize.less` sets `[hidden] { display: none; }` but bootstrap.min.css set `[hidden] { display: none !important; }` so we also need the `!important` here to be able to override the default hidden behavior on the sphinx rendered scikit-learn.org. See: https://github.com/scikit-learn/scikit-learn/issues/21755 */display: inline-block !important;position: relative;}#sk-container-id-2 div.sk-text-repr-fallback {display: none;}</style><div id=\"sk-container-id-2\" class=\"sk-top-container\"><div class=\"sk-text-repr-fallback\"><pre>LinearRegression()</pre><b>In a Jupyter environment, please rerun this cell to show the HTML representation or trust the notebook. <br />On GitHub, the HTML representation is unable to render, please try loading this page with nbviewer.org.</b></div><div class=\"sk-container\" hidden><div class=\"sk-item\"><div class=\"sk-estimator sk-toggleable\"><input class=\"sk-toggleable__control sk-hidden--visually\" id=\"sk-estimator-id-2\" type=\"checkbox\" checked><label for=\"sk-estimator-id-2\" class=\"sk-toggleable__label sk-toggleable__label-arrow\">LinearRegression</label><div class=\"sk-toggleable__content\"><pre>LinearRegression()</pre></div></div></div></div></div>"
      ],
      "text/plain": [
       "LinearRegression()"
      ]
     },
     "execution_count": 11,
     "metadata": {},
     "output_type": "execute_result"
    }
   ],
   "source": [
    "linear_reg = LinearRegression(copy_X=True)\n",
    "linear_reg.fit(X_train, y_train)"
   ]
  },
  {
   "cell_type": "code",
   "execution_count": 12,
   "id": "1e98d097",
   "metadata": {},
   "outputs": [
    {
     "name": "stdout",
     "output_type": "stream",
     "text": [
      "Linear regression RMSE on validation: 21.84022728496911\n",
      "Linear regression RMSE on test: 19.38810297839113\n"
     ]
    }
   ],
   "source": [
    "lin_reg_val_pred = linear_reg.predict(X_validation)\n",
    "# Evaluating the Linear Regression model on validation data\n",
    "lin_reg_val_rmse = np.sqrt(mean_squared_error(y_validation, lin_reg_val_pred))\n",
    "print(f\"Linear regression RMSE on validation: {lin_reg_val_rmse}\")\n",
    "\n",
    "lin_reg_test_pred = linear_reg.predict(X_test)\n",
    "# Evaluating the Linear Regression model on test data\n",
    "lin_reg_test_rmse = np.sqrt(mean_squared_error(y_test, lin_reg_test_pred))\n",
    "print(f\"Linear regression RMSE on test: {lin_reg_test_rmse}\")"
   ]
  },
  {
   "cell_type": "markdown",
   "id": "2e510ba1",
   "metadata": {},
   "source": [
    "## Baseline predictions on validation and test sets"
   ]
  },
  {
   "cell_type": "code",
   "execution_count": 13,
   "id": "5389bf73",
   "metadata": {},
   "outputs": [],
   "source": [
    "# Evaluating the Baseline model on validation data\n",
    "base_line_val_rmse = np.sqrt(mean_squared_error(df_validation['DA_price'], df_validation['DA_price(t-1D)']))\n",
    "\n",
    "#Evaluating the Baseline model on test data\n",
    "base_line_test_rmse = np.sqrt(mean_squared_error(df_test['DA_price'], df_test['DA_price(t-1D)']))"
   ]
  },
  {
   "cell_type": "code",
   "execution_count": 14,
   "id": "28d58817",
   "metadata": {
    "scrolled": false
   },
   "outputs": [
    {
     "name": "stdout",
     "output_type": "stream",
     "text": [
      "Baseline RMSE on validation = 25.956556020205632\n",
      "Baseline RMSE on test = 20.50418041624876\n"
     ]
    }
   ],
   "source": [
    "print(f\"Baseline RMSE on validation = {base_line_val_rmse}\")\n",
    "print(f\"Baseline RMSE on test = {base_line_test_rmse}\")"
   ]
  },
  {
   "cell_type": "markdown",
   "id": "721d5aea",
   "metadata": {},
   "source": [
    "## Dataframes with all the predictions"
   ]
  },
  {
   "cell_type": "code",
   "execution_count": 15,
   "id": "edab80b4",
   "metadata": {},
   "outputs": [],
   "source": [
    "df_validation_preds = df_validation[['time','DA_price', 'DA_price(t-1D)']]\n",
    "df_validation_preds.reset_index(drop=True, inplace=True)\n",
    "df_validation_preds = df_validation_preds.rename(columns = { 'DA_price(t-1D)' : 'Baseline_predictions' })\n",
    "\n",
    "df_validation_preds['XGBoost_predictions'] = val_pred\n",
    "df_validation_preds['Linear_Regression_predictions'] = lin_reg_val_pred\n",
    "\n",
    "# Reorder columns\n",
    "df_validation_preds = df_validation_preds[['time', 'DA_price', 'XGBoost_predictions', \n",
    "                                          'Linear_Regression_predictions', 'Baseline_predictions' ]]"
   ]
  },
  {
   "cell_type": "code",
   "execution_count": 16,
   "id": "a1635639",
   "metadata": {},
   "outputs": [
    {
     "data": {
      "text/html": [
       "<div>\n",
       "<style scoped>\n",
       "    .dataframe tbody tr th:only-of-type {\n",
       "        vertical-align: middle;\n",
       "    }\n",
       "\n",
       "    .dataframe tbody tr th {\n",
       "        vertical-align: top;\n",
       "    }\n",
       "\n",
       "    .dataframe thead th {\n",
       "        text-align: right;\n",
       "    }\n",
       "</style>\n",
       "<table border=\"1\" class=\"dataframe\">\n",
       "  <thead>\n",
       "    <tr style=\"text-align: right;\">\n",
       "      <th></th>\n",
       "      <th>time</th>\n",
       "      <th>DA_price</th>\n",
       "      <th>XGBoost_predictions</th>\n",
       "      <th>Linear_Regression_predictions</th>\n",
       "      <th>Baseline_predictions</th>\n",
       "    </tr>\n",
       "  </thead>\n",
       "  <tbody>\n",
       "    <tr>\n",
       "      <th>0</th>\n",
       "      <td>2022-09-01 00:00:00</td>\n",
       "      <td>69.16</td>\n",
       "      <td>89.743683</td>\n",
       "      <td>92.625353</td>\n",
       "      <td>101.36</td>\n",
       "    </tr>\n",
       "    <tr>\n",
       "      <th>1</th>\n",
       "      <td>2022-09-01 01:00:00</td>\n",
       "      <td>64.95</td>\n",
       "      <td>78.503838</td>\n",
       "      <td>81.492136</td>\n",
       "      <td>85.61</td>\n",
       "    </tr>\n",
       "    <tr>\n",
       "      <th>2</th>\n",
       "      <td>2022-09-01 02:00:00</td>\n",
       "      <td>64.25</td>\n",
       "      <td>75.630875</td>\n",
       "      <td>76.904460</td>\n",
       "      <td>80.40</td>\n",
       "    </tr>\n",
       "    <tr>\n",
       "      <th>3</th>\n",
       "      <td>2022-09-01 03:00:00</td>\n",
       "      <td>63.12</td>\n",
       "      <td>73.767258</td>\n",
       "      <td>73.649078</td>\n",
       "      <td>77.43</td>\n",
       "    </tr>\n",
       "    <tr>\n",
       "      <th>4</th>\n",
       "      <td>2022-09-01 04:00:00</td>\n",
       "      <td>63.82</td>\n",
       "      <td>73.767258</td>\n",
       "      <td>72.543781</td>\n",
       "      <td>77.49</td>\n",
       "    </tr>\n",
       "  </tbody>\n",
       "</table>\n",
       "</div>"
      ],
      "text/plain": [
       "                  time  DA_price  XGBoost_predictions  \\\n",
       "0  2022-09-01 00:00:00     69.16            89.743683   \n",
       "1  2022-09-01 01:00:00     64.95            78.503838   \n",
       "2  2022-09-01 02:00:00     64.25            75.630875   \n",
       "3  2022-09-01 03:00:00     63.12            73.767258   \n",
       "4  2022-09-01 04:00:00     63.82            73.767258   \n",
       "\n",
       "   Linear_Regression_predictions  Baseline_predictions  \n",
       "0                      92.625353                101.36  \n",
       "1                      81.492136                 85.61  \n",
       "2                      76.904460                 80.40  \n",
       "3                      73.649078                 77.43  \n",
       "4                      72.543781                 77.49  "
      ]
     },
     "execution_count": 16,
     "metadata": {},
     "output_type": "execute_result"
    }
   ],
   "source": [
    "df_validation_preds.head()"
   ]
  },
  {
   "cell_type": "code",
   "execution_count": 17,
   "id": "a0b9cab6",
   "metadata": {},
   "outputs": [],
   "source": [
    "df_test_preds = df_test[['time','DA_price', 'DA_price(t-1D)']]\n",
    "df_test_preds.reset_index(drop=True, inplace=True)\n",
    "df_test_preds = df_test_preds.rename(columns = { 'DA_price(t-1D)' : 'Baseline_predictions' })\n",
    "\n",
    "df_test_preds['XGBoost_predictions'] = test_pred\n",
    "df_test_preds['Linear_Regression_predictions'] = lin_reg_test_pred\n",
    "\n",
    "# Reorder columns\n",
    "df_test_preds = df_test_preds[['time', 'DA_price', 'XGBoost_predictions', \n",
    "                                          'Linear_Regression_predictions', 'Baseline_predictions' ]]"
   ]
  },
  {
   "cell_type": "code",
   "execution_count": 18,
   "id": "8b8d905a",
   "metadata": {},
   "outputs": [
    {
     "data": {
      "text/html": [
       "<div>\n",
       "<style scoped>\n",
       "    .dataframe tbody tr th:only-of-type {\n",
       "        vertical-align: middle;\n",
       "    }\n",
       "\n",
       "    .dataframe tbody tr th {\n",
       "        vertical-align: top;\n",
       "    }\n",
       "\n",
       "    .dataframe thead th {\n",
       "        text-align: right;\n",
       "    }\n",
       "</style>\n",
       "<table border=\"1\" class=\"dataframe\">\n",
       "  <thead>\n",
       "    <tr style=\"text-align: right;\">\n",
       "      <th></th>\n",
       "      <th>time</th>\n",
       "      <th>DA_price</th>\n",
       "      <th>XGBoost_predictions</th>\n",
       "      <th>Linear_Regression_predictions</th>\n",
       "      <th>Baseline_predictions</th>\n",
       "    </tr>\n",
       "  </thead>\n",
       "  <tbody>\n",
       "    <tr>\n",
       "      <th>0</th>\n",
       "      <td>2022-08-30 00:00:00</td>\n",
       "      <td>107.90</td>\n",
       "      <td>95.507324</td>\n",
       "      <td>107.903859</td>\n",
       "      <td>96.51</td>\n",
       "    </tr>\n",
       "    <tr>\n",
       "      <th>1</th>\n",
       "      <td>2022-08-30 01:00:00</td>\n",
       "      <td>90.86</td>\n",
       "      <td>89.891068</td>\n",
       "      <td>97.170069</td>\n",
       "      <td>85.91</td>\n",
       "    </tr>\n",
       "    <tr>\n",
       "      <th>2</th>\n",
       "      <td>2022-08-30 02:00:00</td>\n",
       "      <td>84.54</td>\n",
       "      <td>81.745865</td>\n",
       "      <td>92.725925</td>\n",
       "      <td>82.93</td>\n",
       "    </tr>\n",
       "    <tr>\n",
       "      <th>3</th>\n",
       "      <td>2022-08-30 03:00:00</td>\n",
       "      <td>84.80</td>\n",
       "      <td>80.550568</td>\n",
       "      <td>87.780497</td>\n",
       "      <td>79.22</td>\n",
       "    </tr>\n",
       "    <tr>\n",
       "      <th>4</th>\n",
       "      <td>2022-08-30 04:00:00</td>\n",
       "      <td>88.75</td>\n",
       "      <td>79.074242</td>\n",
       "      <td>86.567311</td>\n",
       "      <td>79.63</td>\n",
       "    </tr>\n",
       "  </tbody>\n",
       "</table>\n",
       "</div>"
      ],
      "text/plain": [
       "                  time  DA_price  XGBoost_predictions  \\\n",
       "0  2022-08-30 00:00:00    107.90            95.507324   \n",
       "1  2022-08-30 01:00:00     90.86            89.891068   \n",
       "2  2022-08-30 02:00:00     84.54            81.745865   \n",
       "3  2022-08-30 03:00:00     84.80            80.550568   \n",
       "4  2022-08-30 04:00:00     88.75            79.074242   \n",
       "\n",
       "   Linear_Regression_predictions  Baseline_predictions  \n",
       "0                     107.903859                 96.51  \n",
       "1                      97.170069                 85.91  \n",
       "2                      92.725925                 82.93  \n",
       "3                      87.780497                 79.22  \n",
       "4                      86.567311                 79.63  "
      ]
     },
     "execution_count": 18,
     "metadata": {},
     "output_type": "execute_result"
    }
   ],
   "source": [
    "df_test_preds.head()"
   ]
  }
 ],
 "metadata": {
  "kernelspec": {
   "display_name": "Python 3 (ipykernel)",
   "language": "python",
   "name": "python3"
  },
  "language_info": {
   "codemirror_mode": {
    "name": "ipython",
    "version": 3
   },
   "file_extension": ".py",
   "mimetype": "text/x-python",
   "name": "python",
   "nbconvert_exporter": "python",
   "pygments_lexer": "ipython3",
   "version": "3.10.9"
  }
 },
 "nbformat": 4,
 "nbformat_minor": 5
}
