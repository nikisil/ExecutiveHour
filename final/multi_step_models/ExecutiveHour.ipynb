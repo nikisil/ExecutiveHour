{
 "cells": [
  {
   "cell_type": "markdown",
   "id": "01ba3e4a-0bab-4984-8ed8-3552968733b8",
   "metadata": {},
   "source": [
    "# Executive Hour & Energy price forecasting\n",
    "\n",
    "This notebook contains a selection of the models that were generated during the course of our work on energy price forecasting. The notebook will initialize each model, train it and then score it according to the validation and test data sets. Finally, all models are compared againts the chosen baseline model.  \n",
    "\n",
    "The target of our project is to predict the day-ahead price (`DA_price`) of electricty in New York city area. The DA price is the price of electricty that is charged at time `t` for delivery of electricty at time `t+24` hours. In contrast to the real-time (`RT`) price, which is for buying and selling electricty on the spot for immediate consumption and is therefore quite volatile, the `DA` price mechanism allows for an element of predictability and stability. \n",
    "\n",
    "In our case, we choose a reasonable baseline model: `DA_price` at time `t` is the same as the `DA_price` at time `t-24h`. \n",
    "\n",
    "**This notebook is for our multi-step models. That is, the next 24 hours is predicted all at once, with the exception of the ARIMA model.**\n",
    "\n",
    "### Group Members:\n",
    "Irem Altiner, Souparna Purohit, Nicolas Fortier, Rouzbeh Yazdi  \n",
    "Mentor: Julian Rosen"
   ]
  },
  {
   "cell_type": "code",
   "execution_count": 1,
   "id": "2af87156-278c-4699-a7f3-53c3f5791ff4",
   "metadata": {},
   "outputs": [
    {
     "ename": "ModuleNotFoundError",
     "evalue": "No module named 'rouz_helpers'",
     "output_type": "error",
     "traceback": [
      "\u001b[0;31m---------------------------------------------------------------------------\u001b[0m",
      "\u001b[0;31mModuleNotFoundError\u001b[0m                       Traceback (most recent call last)",
      "Cell \u001b[0;32mIn[1], line 3\u001b[0m\n\u001b[1;32m      1\u001b[0m \u001b[38;5;66;03m## imports:\u001b[39;00m\n\u001b[1;32m      2\u001b[0m \u001b[38;5;66;03m## our own models\u001b[39;00m\n\u001b[0;32m----> 3\u001b[0m \u001b[38;5;28;01mimport\u001b[39;00m \u001b[38;5;21;01mrouz_helpers\u001b[39;00m \u001b[38;5;28;01mas\u001b[39;00m \u001b[38;5;21;01mrhelp\u001b[39;00m\n\u001b[1;32m      4\u001b[0m \u001b[38;5;28;01mimport\u001b[39;00m \u001b[38;5;21;01mrouz_model\u001b[39;00m \u001b[38;5;28;01mas\u001b[39;00m \u001b[38;5;21;01mrmodel\u001b[39;00m \u001b[38;5;66;03m## Rouz's model(s) --> multi-layered Deep NN and a ResNet\u001b[39;00m\n\u001b[1;32m      5\u001b[0m \u001b[38;5;28;01mimport\u001b[39;00m \u001b[38;5;21;01mLSTM\u001b[39;00m \u001b[38;5;28;01mas\u001b[39;00m \u001b[38;5;21;01mnmodel\u001b[39;00m \u001b[38;5;66;03m## Nic's model(s) --> multi-layered LSTM\u001b[39;00m\n",
      "\u001b[0;31mModuleNotFoundError\u001b[0m: No module named 'rouz_helpers'"
     ]
    }
   ],
   "source": [
    "## imports:\n",
    "## our own models\n",
    "import rouz_helpers as rhelp\n",
    "import rouz_model as rmodel ## Rouz's model(s) --> multi-layered Deep NN and a ResNet\n",
    "import LSTM as nmodel ## Nic's model(s) --> multi-layered LSTM\n",
    "import irem_model as imodel ## Irem's model --> ARIMA\n",
    "import XGB as smodel ## Souparna's model --> XGBoost regressor model"
   ]
  },
  {
   "cell_type": "code",
   "execution_count": null,
   "id": "ce5a3149-4d8e-48b4-a402-32a91260de0d",
   "metadata": {},
   "outputs": [],
   "source": []
  }
 ],
 "metadata": {
  "kernelspec": {
   "display_name": "Python 3 (ipykernel)",
   "language": "python",
   "name": "python3"
  },
  "language_info": {
   "codemirror_mode": {
    "name": "ipython",
    "version": 3
   },
   "file_extension": ".py",
   "mimetype": "text/x-python",
   "name": "python",
   "nbconvert_exporter": "python",
   "pygments_lexer": "ipython3",
   "version": "3.11.0"
  }
 },
 "nbformat": 4,
 "nbformat_minor": 5
}
