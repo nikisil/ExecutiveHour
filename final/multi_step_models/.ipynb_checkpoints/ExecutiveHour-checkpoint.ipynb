{
 "cells": [
  {
   "cell_type": "markdown",
   "id": "01ba3e4a-0bab-4984-8ed8-3552968733b8",
   "metadata": {},
   "source": [
    "# Executive Hour & Energy price forecasting\n",
    "\n",
    "This notebook contains a selection of the models that were generated during the course of our work on energy price forecasting. The notebook will initialize each model, train it and then score it according to the validation and test data sets. Finally, all models are compared againts the chosen baseline model.  \n",
    "\n",
    "The target of our project is to predict the day-ahead price (`DA_price`) of electricty in New York city area. The DA price is the price of electricty that is charged at time `t` for delivery of electricty at time `t+24` hours. In contrast to the real-time (`RT`) price, which is for buying and selling electricty on the spot for immediate consumption and is therefore quite volatile, the `DA` price mechanism allows for an element of predictability and stability. \n",
    "\n",
    "In our case, we choose a reasonable baseline model: `DA_price` at time `t` is the same as the `DA_price` at time `t-24h`. This generates a baseline model that is surprisingly difficult to beat.\n",
    "\n",
    "### Group Members:\n",
    "Irem Altiner, Souparna Purohit, Nicolas Fortier, Rouzbeh Yazdi  \n",
    "Mentor: Julian Rosen"
   ]
  }
 ],
 "metadata": {
  "kernelspec": {
   "display_name": "Python 3 (ipykernel)",
   "language": "python",
   "name": "python3"
  },
  "language_info": {
   "codemirror_mode": {
    "name": "ipython",
    "version": 3
   },
   "file_extension": ".py",
   "mimetype": "text/x-python",
   "name": "python",
   "nbconvert_exporter": "python",
   "pygments_lexer": "ipython3",
   "version": "3.11.0"
  }
 },
 "nbformat": 4,
 "nbformat_minor": 5
}
