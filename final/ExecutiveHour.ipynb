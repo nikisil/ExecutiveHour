{
 "cells": [
  {
   "cell_type": "markdown",
   "id": "c258310e-0c7d-41cc-8ffa-655848d00904",
   "metadata": {},
   "source": [
    "# Executive Hour & Energy price forecasting\n",
    "\n",
    "This notebook contains a selection of the models that were generated during the course of our work on energy price forecasting. The notebook will initialize each model, train it and then score it according to the validation and test data sets. Finally, all models are compared againts the chosen baseline model.\n",
    "The target of our project is to predict the day-ahead price (`DA_price`) of electricty in New York city area. The DA price is the price of electricty that is charged at time `t` for delivery of electricty at time `t+24` hours. In contrast to the real-time (`RT`) price, which is for buying and selling electricty on the spot for immediate consumption and is therefore quite volatile, the `DA` price mechanism allows for an element of predictability and stability. \n",
    "\n",
    "In our case, we choose a reasonable baseline model: `DA_price` at time `t` is the same as the `DA_price` at time `t-24h`. This generates a baseline model that is surprisingly difficult to beat.\n",
    "\n",
    "### Group Members:\n",
    "Irem Altiner, Souparna Purohit, Nicolas Fortier, Rouzbeh Yazdi  \n",
    "Mentor: Julian Rosen"
   ]
  },
  {
   "cell_type": "code",
   "execution_count": 1,
   "id": "75dd62c2-8751-43d8-90c0-f283a6dcad1e",
   "metadata": {},
   "outputs": [],
   "source": [
    "## imports:\n",
    "## our own models\n",
    "import rouz_helpers as rhelp\n",
    "import rouz_model as rmodel ## Rouz's model(s) --> multi-layered Deep NN and a ResNet\n",
    "import LSTM as nmodel ## Nic's model(s) --> multi-layered LSTM\n",
    "import irem_model as imodel ## Irem's model --> ARIMA\n",
    "import XGB as smodel ## Souparna's model --> XGBoost regressor model"
   ]
  },
  {
   "cell_type": "code",
   "execution_count": 2,
   "id": "563e08d0-8db5-4c30-b7bd-357d17720086",
   "metadata": {},
   "outputs": [],
   "source": [
    "%matplotlib inline\n",
    "import pandas as pd\n",
    "import numpy as np\n",
    "import matplotlib.pyplot as plt\n",
    "from matplotlib.ticker import NullFormatter, NullLocator\n",
    "from datetime import datetime\n",
    "\n",
    "from tensorflow import keras\n",
    "import tensorflow as tf"
   ]
  },
  {
   "cell_type": "code",
   "execution_count": 3,
   "id": "e0e5116d-83c9-4fda-8d12-0fd956af2b5c",
   "metadata": {},
   "outputs": [],
   "source": [
    "## I am running on an M1 Mac machine and for some reason\n",
    "## running tensorflow with GPU is a __pain__\n",
    "tf.config.set_visible_devices([], \"GPU\")"
   ]
  },
  {
   "cell_type": "markdown",
   "id": "d30fe2d5-540f-4bc7-b9a7-4d367d7db1e7",
   "metadata": {},
   "source": [
    "## Baseline Model, Deep Neural Networks, Residual Networks"
   ]
  },
  {
   "cell_type": "code",
   "execution_count": 4,
   "id": "2af7b893-db09-4323-835a-a860f009be73",
   "metadata": {},
   "outputs": [],
   "source": [
    "validation_scores = {}\n",
    "test_scores = {}"
   ]
  },
  {
   "cell_type": "code",
   "execution_count": 5,
   "id": "a1584785-3f1d-4376-b3cd-b23e12861ed1",
   "metadata": {},
   "outputs": [],
   "source": [
    "## Read in the data, remove the first few days\n",
    "train_df, val_df, test_df = rhelp.read_data_Nic()\n",
    "train_df['time'] = pd.to_datetime(train_df['time'])\n",
    "train_df = train_df[train_df.time > datetime(2020,11, 3, 23, 0, 0)]\n",
    "\n",
    "for df in [train_df, val_df, test_df]:\n",
    "    _ = df.pop('time')\n",
    "    \n",
    "mean = train_df.DA_price.mean()\n",
    "std = train_df.DA_price.std()\n",
    "\n",
    "mean_train = train_df.mean(numeric_only=True, axis=0)\n",
    "std_train = train_df.std(numeric_only=True, axis=0)\n",
    "\n",
    "train_df = (train_df - mean_train) / std_train\n",
    "val_df   = (val_df   - mean_train) / std_train\n",
    "test_df  = (test_df  - mean_train) / std_train\n",
    "\n",
    "column_indices = {col: train_df.columns.get_loc(col) for col in train_df.columns}"
   ]
  },
  {
   "cell_type": "code",
   "execution_count": 6,
   "id": "0b4ffb3a-305c-4bbc-a016-82cedaf4e423",
   "metadata": {},
   "outputs": [],
   "source": [
    "## create windows of time to be fed into the models\n",
    "SHIFT = 24\n",
    "BATCH_SIZE = 128\n",
    "## window no. 1: a narrow window of time, one hour of data, one hour prediction\n",
    "narrow_window = rhelp.WindowGenerator(\n",
    "        input_width=1,\n",
    "        label_width=1,\n",
    "        shift=1,\n",
    "        train_df=train_df,\n",
    "        val_df=val_df,\n",
    "        test_df=test_df,\n",
    "        label_columns=[\"DA_price\"],\n",
    "        batch_size=BATCH_SIZE,\n",
    "    )\n",
    "## window no. 2: wide window, passes 24 hours of data for prediction\n",
    "wide_window = rhelp.WindowGenerator(\n",
    "        input_width=24,\n",
    "        label_width=24,\n",
    "        shift=SHIFT,\n",
    "        train_df=train_df,\n",
    "        val_df=val_df,\n",
    "        test_df=test_df,\n",
    "        label_columns=[\"DA_price\"],\n",
    "        batch_size=BATCH_SIZE,\n",
    "    )"
   ]
  },
  {
   "cell_type": "code",
   "execution_count": 7,
   "id": "0c565998-6001-4e2e-9430-068d23b09126",
   "metadata": {},
   "outputs": [],
   "source": [
    "PATIENCE, MAX_EPOCH = 10, 100"
   ]
  },
  {
   "cell_type": "code",
   "execution_count": 8,
   "id": "e4cea9e9-1065-4801-a19e-6cc03fb174e5",
   "metadata": {},
   "outputs": [],
   "source": [
    "## Baseline model:\n",
    "baseline_model = rmodel.Baseline(label_index=column_indices[\"DA_price\"])\n",
    "baseline_model.compile(loss=keras.losses.MeanSquaredError(),\n",
    "              metrics=[keras.metrics.MeanAbsoluteError()])\n",
    "validation_scores['Baseline'] = rmodel.get_rmse(baseline_model, wide_window.val, mean, std)\n",
    "test_scores['Baseline']       = rmodel.get_rmse(baseline_model, wide_window.test, mean, std)"
   ]
  },
  {
   "cell_type": "markdown",
   "id": "173109f3-f22e-457e-be98-3f1cb787a2e3",
   "metadata": {},
   "source": [
    "We can now plot the baseline model to take a look. The figures below show the Baseline model against three 24 hour window of data (no specific day or date). (Uncomment the code if you're interested!)"
   ]
  },
  {
   "cell_type": "code",
   "execution_count": 9,
   "id": "63974b3c-e52c-4f49-97b0-fb827f2edd31",
   "metadata": {},
   "outputs": [],
   "source": [
    "# _ = wide_window.plot(baseline_model, colors=['blue','green','orange'], max_subplots=3, title='Baseline')"
   ]
  },
  {
   "cell_type": "code",
   "execution_count": 10,
   "id": "a8f81b32-4c89-45eb-8dec-a7361361a36e",
   "metadata": {},
   "outputs": [],
   "source": [
    "## Linear Model:\n",
    "%timeit\n",
    "linear_model = rmodel.Linear(units=1)\n",
    "linear_model_history = rmodel.compile_and_fit(linear_model, \n",
    "                                              window=wide_window, \n",
    "                                              patience=PATIENCE, \n",
    "                                              max_epochs=MAX_EPOCH)\n",
    "validation_scores['Linear Model'] = rmodel.get_rmse(linear_model, wide_window.val, mean, std)\n",
    "test_scores['Linear Model']       = rmodel.get_rmse(linear_model, wide_window.test, mean, std)"
   ]
  },
  {
   "cell_type": "markdown",
   "id": "4b50834b-244b-4da0-b3d2-64fa4be497f4",
   "metadata": {},
   "source": [
    "Now let's see the result of the predictions of the linear model. (Again, uncomment if you're interested!)"
   ]
  },
  {
   "cell_type": "code",
   "execution_count": 11,
   "id": "b7511b0f-c518-4454-9880-16de3d0ba9ba",
   "metadata": {},
   "outputs": [],
   "source": [
    "# _ = wide_window.plot(linear_model, colors=['blue','green','orange'], max_subplots=3, title='Linear model')"
   ]
  },
  {
   "cell_type": "code",
   "execution_count": 12,
   "id": "26d8fce3-315a-4692-8ae4-020335d65009",
   "metadata": {},
   "outputs": [],
   "source": [
    "## Deep Neural Network model:\n",
    "layers = 3\n",
    "units = [64, 32, 16]\n",
    "deep_connected_model = rmodel.DeepDenseModel(num_layers=layers, units=units)\n",
    "deep_connected_history = rmodel.compile_and_fit(deep_connected_model, wide_window, \n",
    "                                                patience=PATIENCE, \n",
    "                                                max_epochs=MAX_EPOCH)\n",
    "validation_scores['Deep Connected NN'] = rmodel.get_rmse(deep_connected_model, wide_window.val, mean, std)\n",
    "test_scores['Deep Connected NN']       = rmodel.get_rmse(deep_connected_model, wide_window.test, mean, std)"
   ]
  },
  {
   "cell_type": "code",
   "execution_count": 13,
   "id": "b75cbeab-c92f-4618-b227-ac85f9d21e10",
   "metadata": {},
   "outputs": [],
   "source": [
    "# _ = wide_window.plot(deep_connected_model, colors=['blue','green','orange'], max_subplots=3, title='DNN (3 layers)')"
   ]
  },
  {
   "cell_type": "code",
   "execution_count": 24,
   "id": "383748e6-5290-49bd-983d-17aad2ba6365",
   "metadata": {},
   "outputs": [],
   "source": [
    "## Uncomment the code below to train and test the residual network model. Beware: it takes a while.\n",
    "residual_model = rmodel.ResidualNetwork()\n",
    "residual_model_history = rmodel.compile_and_fit(residual_model, wide_window, \n",
    "                                                patience=PATIENCE, \n",
    "                                                max_epochs=MAX_EPOCH)\n",
    "validation_scores['Residual Network'] = rmodel.get_rmse(residual_model, wide_window.val, \n",
    "                                                        mean, std, is_residual=True, index=column_indices['DA_price'])\n",
    "test_scores['Residual Network']       = rmodel.get_rmse(residual_model, wide_window.test, \n",
    "                                                        mean, std, is_residual=True, index=column_indices['DA_price'])"
   ]
  },
  {
   "cell_type": "code",
   "execution_count": 15,
   "id": "83d1284b-acc1-4acc-9203-b02cc53da8b1",
   "metadata": {},
   "outputs": [],
   "source": [
    "# _ = wide_window.plot(residual_model, colors=['blue','green','orange'], max_subplots=3, title='Residual Model')"
   ]
  },
  {
   "cell_type": "markdown",
   "id": "03c4d80b-5f10-4380-960d-ac980df402cb",
   "metadata": {},
   "source": [
    "## LSTM Model"
   ]
  },
  {
   "cell_type": "code",
   "execution_count": 16,
   "id": "6d669cc6-0bb5-4456-9225-14cdf0ef0e38",
   "metadata": {},
   "outputs": [
    {
     "name": "stdout",
     "output_type": "stream",
     "text": [
      "99/99 [==============================] - 0s 604us/step\n",
      "Test RMSE: 22.340\n",
      "177/177 [==============================] - 0s 500us/step\n",
      "Validation RMSE: 21.645\n"
     ]
    }
   ],
   "source": [
    "## the LSTM model by Nic. This is a three layer, LSTM NN\n",
    "## In calculations, Nic's convention for the name of validation and test\n",
    "## sets is different (test--> validation, validation -->test)\n",
    "## that is affected here:\n",
    "model, LSTM_history, val_rmse, test_rmse = nmodel.main(loc=\"../final_datasets/\")"
   ]
  },
  {
   "cell_type": "code",
   "execution_count": 17,
   "id": "0636e669-e880-46d9-830d-bfae030a02bc",
   "metadata": {},
   "outputs": [],
   "source": [
    "validation_scores['LSTM Network'] = val_rmse\n",
    "test_scores['LSTM Network']       = test_rmse"
   ]
  },
  {
   "cell_type": "markdown",
   "id": "290f2e31-9396-4766-9c27-b50ea0b5826d",
   "metadata": {},
   "source": [
    "## ARMIA Model"
   ]
  },
  {
   "cell_type": "markdown",
   "id": "8154776d-dc66-4589-a7d9-8648dd129c50",
   "metadata": {},
   "source": [
    "ARIMA model: beware that this takes a really long time to finish! Start the run and go cook something."
   ]
  },
  {
   "cell_type": "code",
   "execution_count": 18,
   "id": "3a936d24-f114-4364-b946-6aaa735826e8",
   "metadata": {},
   "outputs": [
    {
     "name": "stderr",
     "output_type": "stream",
     "text": [
      "/Users/rmyazdi/Documents/Dat_Sci_Learning/ERDOS-Fall-2023/erdos/lib/python3.11/site-packages/statsmodels/tsa/statespace/sarimax.py:966: UserWarning: Non-stationary starting autoregressive parameters found. Using zeros as starting parameters.\n",
      "  warn('Non-stationary starting autoregressive parameters'\n",
      "/Users/rmyazdi/Documents/Dat_Sci_Learning/ERDOS-Fall-2023/erdos/lib/python3.11/site-packages/statsmodels/tsa/statespace/sarimax.py:978: UserWarning: Non-invertible starting MA parameters found. Using zeros as starting parameters.\n",
      "  warn('Non-invertible starting MA parameters found.'\n"
     ]
    },
    {
     "name": "stdout",
     "output_type": "stream",
     "text": [
      "RUNNING THE L-BFGS-B CODE\n",
      "\n",
      "           * * *\n",
      "\n",
      "Machine precision = 2.220D-16\n",
      " N =           38     M =           10\n",
      "\n",
      "At X0         0 variables are exactly at the bounds\n",
      "\n",
      "At iterate    0    f=  3.32983D+00    |proj g|=  8.19119D-02\n"
     ]
    },
    {
     "name": "stderr",
     "output_type": "stream",
     "text": [
      " This problem is unconstrained.\n"
     ]
    },
    {
     "name": "stdout",
     "output_type": "stream",
     "text": [
      "\n",
      "At iterate    5    f=  3.30803D+00    |proj g|=  2.83396D-03\n",
      "\n",
      "At iterate   10    f=  3.30691D+00    |proj g|=  7.12699D-03\n",
      "\n",
      "At iterate   15    f=  3.30656D+00    |proj g|=  1.18309D-02\n",
      "\n",
      "At iterate   20    f=  3.30618D+00    |proj g|=  8.51431D-03\n",
      "\n",
      "At iterate   25    f=  3.30597D+00    |proj g|=  1.40859D-03\n",
      "\n",
      "At iterate   30    f=  3.30567D+00    |proj g|=  1.32726D-02\n",
      "\n",
      "At iterate   35    f=  3.30232D+00    |proj g|=  1.28786D-02\n",
      "\n",
      "At iterate   40    f=  3.30080D+00    |proj g|=  2.12902D-02\n",
      "\n",
      "At iterate   45    f=  3.29950D+00    |proj g|=  1.56326D-02\n",
      "\n",
      "At iterate   50    f=  3.29914D+00    |proj g|=  2.41646D-03\n",
      "\n",
      "At iterate   55    f=  3.29905D+00    |proj g|=  4.25073D-03\n",
      "\n",
      "At iterate   60    f=  3.29865D+00    |proj g|=  4.56034D-03\n",
      "\n",
      "At iterate   65    f=  3.29856D+00    |proj g|=  2.27980D-03\n",
      "\n",
      "At iterate   70    f=  3.29846D+00    |proj g|=  1.85322D-03\n",
      "\n",
      "At iterate   75    f=  3.29840D+00    |proj g|=  1.26929D-03\n",
      "\n",
      "At iterate   80    f=  3.29832D+00    |proj g|=  1.52648D-03\n",
      "\n",
      "At iterate   85    f=  3.29828D+00    |proj g|=  1.38802D-03\n",
      "\n",
      "At iterate   90    f=  3.29825D+00    |proj g|=  2.19694D-03\n",
      "\n",
      "At iterate   95    f=  3.29823D+00    |proj g|=  1.04225D-03\n",
      "\n",
      "At iterate  100    f=  3.29821D+00    |proj g|=  1.05467D-03\n",
      "\n",
      "At iterate  105    f=  3.29819D+00    |proj g|=  4.69338D-04\n",
      "\n",
      "At iterate  110    f=  3.29818D+00    |proj g|=  7.79019D-04\n",
      "\n",
      "At iterate  115    f=  3.29817D+00    |proj g|=  5.68712D-04\n",
      "\n",
      "At iterate  120    f=  3.29815D+00    |proj g|=  1.33335D-03\n",
      "\n",
      "At iterate  125    f=  3.29815D+00    |proj g|=  1.70240D-03\n",
      "\n",
      "At iterate  130    f=  3.29809D+00    |proj g|=  7.86732D-04\n",
      "\n",
      "At iterate  135    f=  3.29804D+00    |proj g|=  1.39904D-03\n",
      "\n",
      "At iterate  140    f=  3.29802D+00    |proj g|=  1.99586D-03\n",
      "\n",
      "At iterate  145    f=  3.29801D+00    |proj g|=  1.45923D-03\n",
      "\n",
      "At iterate  150    f=  3.29800D+00    |proj g|=  8.79327D-04\n",
      "\n",
      "At iterate  155    f=  3.29798D+00    |proj g|=  4.24887D-04\n",
      "\n",
      "At iterate  160    f=  3.29797D+00    |proj g|=  4.90618D-04\n",
      "\n",
      "At iterate  165    f=  3.29796D+00    |proj g|=  4.45878D-04\n",
      "\n",
      "At iterate  170    f=  3.29796D+00    |proj g|=  1.02901D-03\n",
      "\n",
      "At iterate  175    f=  3.29795D+00    |proj g|=  1.48593D-03\n",
      "\n",
      "At iterate  180    f=  3.29795D+00    |proj g|=  1.61077D-04\n",
      "\n",
      "At iterate  185    f=  3.29795D+00    |proj g|=  1.73867D-04\n",
      "\n",
      "At iterate  190    f=  3.29795D+00    |proj g|=  1.96420D-04\n",
      "\n",
      "At iterate  195    f=  3.29795D+00    |proj g|=  4.23033D-05\n",
      "\n",
      "           * * *\n",
      "\n",
      "Tit   = total number of iterations\n",
      "Tnf   = total number of function evaluations\n",
      "Tnint = total number of segments explored during Cauchy searches\n",
      "Skip  = number of BFGS updates skipped\n",
      "Nact  = number of active bounds at final generalized Cauchy point\n",
      "Projg = norm of the final projected gradient\n",
      "F     = final function value\n",
      "\n",
      "           * * *\n",
      "\n",
      "   N    Tit     Tnf  Tnint  Skip  Nact     Projg        F\n",
      "   38    197    210      1     0     0   9.433D-05   3.298D+00\n",
      "  F =   3.2979479699651240     \n",
      "\n",
      "CONVERGENCE: REL_REDUCTION_OF_F_<=_FACTR*EPSMCH             \n"
     ]
    }
   ],
   "source": [
    "train_df, val_df, test_df = rhelp.read_data_Nic()\n",
    "arima = imodel.ArimaModel(train_df, val_df, test_df)\n",
    "arima.train_arima()\n",
    "validation_scores['ARMIA'] = arima.get_validation_rmse()\n",
    "test_scores['ARMIA']       = arima.get_test_rmse()"
   ]
  },
  {
   "cell_type": "markdown",
   "id": "e173031a-cd01-4ecc-a7b4-f34ef6130cb6",
   "metadata": {},
   "source": [
    "## XGBoost"
   ]
  },
  {
   "cell_type": "code",
   "execution_count": 20,
   "id": "bb632067-d119-45c0-999a-4a9f97d68c75",
   "metadata": {},
   "outputs": [],
   "source": [
    "val_df = pd.read_csv(\"../final_datasets/smaller_ordered_seasonal_validation_set.csv\")\n",
    "test_df = pd.read_csv(\"../final_datasets/smaller_ordered_test_set.csv\")\n",
    "train_df = pd.read_csv(\"../final_datasets/larger_ordered_train_set.csv\")"
   ]
  },
  {
   "cell_type": "code",
   "execution_count": 22,
   "id": "073ee539-ed87-43db-b9e8-0ebaa8213a0a",
   "metadata": {},
   "outputs": [
    {
     "name": "stdout",
     "output_type": "stream",
     "text": [
      "[0]\tvalidation_0-rmse:56.46738\tvalidation_1-rmse:40.08603\n"
     ]
    },
    {
     "name": "stderr",
     "output_type": "stream",
     "text": [
      "/Users/rmyazdi/Documents/Dat_Sci_Learning/ERDOS-Fall-2023/erdos/lib/python3.11/site-packages/xgboost/core.py:160: UserWarning: [15:17:41] WARNING: /Users/runner/work/xgboost/xgboost/src/objective/regression_obj.cu:209: reg:linear is now deprecated in favor of reg:squarederror.\n",
      "  warnings.warn(smsg, UserWarning)\n"
     ]
    },
    {
     "name": "stdout",
     "output_type": "stream",
     "text": [
      "[100]\tvalidation_0-rmse:26.07741\tvalidation_1-rmse:22.53043\n",
      "[200]\tvalidation_0-rmse:16.90858\tvalidation_1-rmse:19.19362\n",
      "[300]\tvalidation_0-rmse:14.40723\tvalidation_1-rmse:18.43259\n",
      "[400]\tvalidation_0-rmse:13.53058\tvalidation_1-rmse:18.23932\n",
      "[500]\tvalidation_0-rmse:13.00087\tvalidation_1-rmse:18.10372\n",
      "[600]\tvalidation_0-rmse:12.60106\tvalidation_1-rmse:17.93012\n",
      "[700]\tvalidation_0-rmse:12.28427\tvalidation_1-rmse:17.77796\n",
      "[800]\tvalidation_0-rmse:12.01449\tvalidation_1-rmse:17.74131\n",
      "[900]\tvalidation_0-rmse:11.78494\tvalidation_1-rmse:17.74496\n",
      "[929]\tvalidation_0-rmse:11.72290\tvalidation_1-rmse:17.74588\n",
      "Overriding pred_df with df_validation!\n",
      "Overriding pred_df with df_test!\n"
     ]
    }
   ],
   "source": [
    "xgb = smodel.XGBModel(train_df, val_df, test_df)\n",
    "xgb.train()\n",
    "_, xgb_rmse, _ = xgb.predict(pred_on='validation')\n",
    "validation_scores[\"XGB Regressor\"] = xgb_rmse\n",
    "_, xgb_rmse, _ = xgb.predict(pred_on='test')\n",
    "test_scores[\"XGB Regressor\"] = xgb_rmse"
   ]
  },
  {
   "cell_type": "markdown",
   "id": "4a278de5-bad6-4faa-912f-aa87cef0ef6b",
   "metadata": {},
   "source": [
    "## Plotting the scores"
   ]
  },
  {
   "cell_type": "code",
   "execution_count": 25,
   "id": "5946f80b-7f8d-462b-ac1a-b404dc754b47",
   "metadata": {},
   "outputs": [
    {
     "data": {
      "image/png": "[encoded data removed]",
      "text/plain": [
       "<Figure size 640x480 with 1 Axes>"
      ]
     },
     "metadata": {},
     "output_type": "display_data"
    }
   ],
   "source": [
    "width = 0.3\n",
    "model_names = validation_scores.keys()\n",
    "x = np.arange(len(model_names))\n",
    "validation = validation_scores.values()\n",
    "tests = test_scores.values()\n",
    "fig, ax = plt.subplots(1, 1)\n",
    "ax.set_title(\"Model Scores\")\n",
    "ax.bar(x - 0.17, validation, width, label=\"Validation\", color='green')\n",
    "ax.bar(x + 0.17, tests, width, label=\"Test\", color='orange')\n",
    "ax.set_xticks(ticks=x, labels=model_names, rotation=90)\n",
    "ax.set_ylabel(\"RMSE (average over all outputs)\")\n",
    "ax.xaxis.set_minor_locator(NullLocator())\n",
    "ax.xaxis.set_minor_formatter(NullFormatter())\n",
    "_ = ax.legend()"
   ]
  },
  {
   "cell_type": "markdown",
   "id": "8bada747-af8a-4399-87a8-288cf64ecc49",
   "metadata": {},
   "source": [
    "## Conclusions"
   ]
  },
  {
   "cell_type": "markdown",
   "id": "ccf4ef8b-0426-43a7-a3bf-d1790bebd80f",
   "metadata": {},
   "source": [
    "We found that the ARIMA model provided by far the best performance in validation and test. This is perhaps due to the nature of the ARIMA model and its suitability to auto-regressive time series data. Unlike ARIMA, all other models lack this auto-regressive feature. With that said, the ARIMA model is computationally expensive and is significantly slower than all other models shown in this notebook.  \n",
    "\n",
    "To improve on what was done here, one could begin with more and better data. Our data in this project was limited to weather, DA_price, RT_price and natural gas prices. One could incorporate more data into teh "
   ]
  }
 ],
 "metadata": {
  "kernelspec": {
   "display_name": "Python 3 (ipykernel)",
   "language": "python",
   "name": "python3"
  },
  "language_info": {
   "codemirror_mode": {
    "name": "ipython",
    "version": 3
   },
   "file_extension": ".py",
   "mimetype": "text/x-python",
   "name": "python",
   "nbconvert_exporter": "python",
   "pygments_lexer": "ipython3",
   "version": "3.11.0"
  }
 },
 "nbformat": 4,
 "nbformat_minor": 5
}
