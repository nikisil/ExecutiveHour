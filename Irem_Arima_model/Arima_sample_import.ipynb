{
 "cells": [
  {
   "cell_type": "code",
   "execution_count": 7,
   "id": "963dc692",
   "metadata": {},
   "outputs": [],
   "source": [
    "from ARIMA import ArimaModel\n",
    "import pandas as pd\n",
    "import numpy as np"
   ]
  },
  {
   "cell_type": "code",
   "execution_count": 5,
   "id": "8296fb8c",
   "metadata": {},
   "outputs": [],
   "source": [
    "tdf = pd.read_csv('/Users/iremaltiner/Desktop/ErdosProject/Bootcamp Project/train-val-test/ordered_train_set.csv')\n",
    "testdf = pd.read_csv('/Users/iremaltiner/Desktop/ErdosProject/Bootcamp Project/train-val-test/ordered_test_set.csv',\n",
    "                        parse_dates=['time'])\n",
    "vdf = pd.read_csv('/Users/iremaltiner/Desktop/ErdosProject/Bootcamp Project/train-val-test/ordered_seasonal_validation_set.csv',\n",
    "                        parse_dates=['time'])"
   ]
  },
  {
   "cell_type": "code",
   "execution_count": 8,
   "id": "8adacd3c",
   "metadata": {},
   "outputs": [],
   "source": [
    "arima = ArimaModel(tdf[:10], vdf[:10], testdf[:10])"
   ]
  },
  {
   "cell_type": "code",
   "execution_count": 9,
   "id": "b9a33d46",
   "metadata": {},
   "outputs": [
    {
     "name": "stderr",
     "output_type": "stream",
     "text": [
      "/usr/local/lib/python3.9/site-packages/statsmodels/tsa/statespace/sarimax.py:866: UserWarning: Too few observations to estimate starting parameters for ARMA and trend. All parameters except for variances will be set to zeros.\n",
      "  warn('Too few observations to estimate starting parameters%s.'\n",
      " This problem is unconstrained.\n"
     ]
    },
    {
     "name": "stdout",
     "output_type": "stream",
     "text": [
      "RUNNING THE L-BFGS-B CODE\n",
      "\n",
      "           * * *\n",
      "\n",
      "Machine precision = 2.220D-16\n",
      " N =           38     M =           10\n",
      "\n",
      "At X0         0 variables are exactly at the bounds\n",
      "\n",
      "At iterate    0    f=  2.50163D+00    |proj g|=  1.10163D+00\n",
      "\n",
      "At iterate    5    f=  2.07894D+00    |proj g|=  1.05102D-01\n",
      "\n",
      "At iterate   10    f=  1.85762D+00    |proj g|=  7.93634D-01\n",
      "\n",
      "At iterate   15    f=  1.77043D+00    |proj g|=  5.30464D-01\n",
      "\n",
      "At iterate   20    f=  1.55785D+00    |proj g|=  2.84299D+00\n",
      "\n",
      "At iterate   25    f=  1.45628D+00    |proj g|=  1.16302D+00\n",
      "\n",
      "At iterate   30    f=  1.43161D+00    |proj g|=  9.16129D+00\n",
      "\n",
      "At iterate   35    f=  1.37835D+00    |proj g|=  2.17659D+01\n",
      "\n",
      "At iterate   40    f=  1.32165D+00    |proj g|=  1.42162D+01\n",
      "\n",
      "At iterate   45    f=  1.31148D+00    |proj g|=  1.31679D+00\n",
      "\n",
      "At iterate   50    f=  1.31142D+00    |proj g|=  6.27513D-01\n",
      "\n",
      "At iterate   55    f=  1.30897D+00    |proj g|=  2.18992D+00\n",
      "\n",
      "At iterate   60    f=  1.30879D+00    |proj g|=  3.02332D-01\n",
      "\n",
      "           * * *\n",
      "\n",
      "Tit   = total number of iterations\n",
      "Tnf   = total number of function evaluations\n",
      "Tnint = total number of segments explored during Cauchy searches\n",
      "Skip  = number of BFGS updates skipped\n",
      "Nact  = number of active bounds at final generalized Cauchy point\n",
      "Projg = norm of the final projected gradient\n",
      "F     = final function value\n",
      "\n",
      "           * * *\n",
      "\n",
      "   N    Tit     Tnf  Tnint  Skip  Nact     Projg        F\n",
      "   38     62    144      1     0     0   3.097D-01   1.309D+00\n",
      "  F =   1.3087865990621494     \n",
      "\n",
      "CONVERGENCE: REL_REDUCTION_OF_F_<=_FACTR*EPSMCH             \n"
     ]
    },
    {
     "name": "stderr",
     "output_type": "stream",
     "text": [
      "\n",
      " Warning:  more than 10 function and gradient\n",
      "   evaluations in the last line search.  Termination\n",
      "   may possibly be caused by a bad search direction.\n"
     ]
    }
   ],
   "source": [
    "arima.train_arima()"
   ]
  },
  {
   "cell_type": "code",
   "execution_count": 10,
   "id": "fbe2aef8",
   "metadata": {},
   "outputs": [
    {
     "name": "stdout",
     "output_type": "stream",
     "text": [
      "Validation RMSE: 22.758983017850916\n",
      "Test RMSE: 35.22953116091406\n"
     ]
    }
   ],
   "source": [
    "print(f'Validation RMSE: {arima.get_validation_rmse()}\\nTest RMSE: {arima.get_test_rmse()}')"
   ]
  },
  {
   "cell_type": "code",
   "execution_count": null,
   "id": "18993858",
   "metadata": {},
   "outputs": [],
   "source": []
  }
 ],
 "metadata": {
  "kernelspec": {
   "display_name": "Python 3 (ipykernel)",
   "language": "python",
   "name": "python3"
  },
  "language_info": {
   "codemirror_mode": {
    "name": "ipython",
    "version": 3
   },
   "file_extension": ".py",
   "mimetype": "text/x-python",
   "name": "python",
   "nbconvert_exporter": "python",
   "pygments_lexer": "ipython3",
   "version": "3.9.17"
  }
 },
 "nbformat": 4,
 "nbformat_minor": 5
}
