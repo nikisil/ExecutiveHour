{
 "cells": [
  {
   "cell_type": "markdown",
   "id": "10767207-ae24-486c-8b94-0386f17db609",
   "metadata": {},
   "source": [
    "# Data Set 2\n",
    "Notebook for data set 2, US energy data. On the website I don't see any hourly data. So perhaps the best we can do is predict average monthly targets (load, price etc). Data is sourced from the [U.S. Energy Information Administration](https://www.eia.gov)."
   ]
  },
  {
   "cell_type": "code",
   "execution_count": 1,
   "id": "3e61c7b8-b4dc-430d-adc2-d620babca206",
   "metadata": {},
   "outputs": [],
   "source": [
    "%matplotlib inline\n",
    "import warnings\n",
    "warnings.filterwarnings(\"ignore\")\n",
    "from matplotlib import pyplot as plt\n",
    "import numpy as np\n",
    "import pandas as pd\n",
    "import seaborn as sns\n",
    "\n",
    "from sklearn.preprocessing import LabelEncoder\n",
    "from sklearn.metrics import mean_squared_error, r2_score\n",
    "\n",
    "import statsmodels.api as sm\n",
    "from statsmodels.graphics.tsaplots import plot_acf, plot_pacf\n",
    "from statsmodels.tsa.stattools import adfuller, kpss, ccf"
   ]
  },
  {
   "cell_type": "code",
   "execution_count": null,
   "id": "8620c7b7-3595-4f86-9dc4-8fa41eacb125",
   "metadata": {},
   "outputs": [],
   "source": []
  },
  {
   "cell_type": "code",
   "execution_count": null,
   "id": "c5813209-9c09-43ee-9897-3b57cea5d550",
   "metadata": {},
   "outputs": [],
   "source": []
  },
  {
   "cell_type": "code",
   "execution_count": null,
   "id": "1f668aad-ca87-41e1-9e5f-c19b5b3905c8",
   "metadata": {},
   "outputs": [],
   "source": []
  }
 ],
 "metadata": {
  "kernelspec": {
   "display_name": "Python 3 (ipykernel)",
   "language": "python",
   "name": "python3"
  },
  "language_info": {
   "codemirror_mode": {
    "name": "ipython",
    "version": 3
   },
   "file_extension": ".py",
   "mimetype": "text/x-python",
   "name": "python",
   "nbconvert_exporter": "python",
   "pygments_lexer": "ipython3",
   "version": "3.11.0"
  }
 },
 "nbformat": 4,
 "nbformat_minor": 5
}
