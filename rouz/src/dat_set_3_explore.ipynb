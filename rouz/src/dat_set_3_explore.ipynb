{
 "cells": [
  {
   "cell_type": "markdown",
   "id": "5d95f5dc-da5c-4d30-b28c-48030e0e318f",
   "metadata": {},
   "source": [
    "# Exploration of Data Set 3"
   ]
  },
  {
   "cell_type": "markdown",
   "id": "39e1dc16-b0a0-44d7-b7a7-532224099581",
   "metadata": {},
   "source": [
    "This is the exploratory notebook for data set 3. Data is taken from [nrg.com](https://www.nrg.com/resources/energy-tools/tracking-the-market.html) and is specifically for the electricity data of actual load, day-ahead market and real-time market of New York city. "
   ]
  },
  {
   "cell_type": "code",
   "execution_count": 1,
   "id": "354d112a-4776-42a1-bbd6-09021414c0fc",
   "metadata": {},
   "outputs": [],
   "source": [
    "%matplotlib inline\n",
    "import warnings\n",
    "warnings.filterwarnings(\"ignore\")\n",
    "from matplotlib import pyplot as plt\n",
    "import matplotlib as mpl\n",
    "import numpy as np\n",
    "import pandas as pd\n",
    "import seaborn as sns\n",
    "\n",
    "from sklearn.preprocessing import LabelEncoder\n",
    "from sklearn.metrics import mean_squared_error, r2_score\n",
    "\n",
    "import statsmodels.api as sm\n",
    "from statsmodels.graphics.tsaplots import plot_acf, plot_pacf\n",
    "from statsmodels.tsa.stattools import adfuller, kpss, ccf\n",
    "\n",
    "# Set the default color cycle\n",
    "mpl.style.use('seaborn-v0_8-notebook')\n",
    "mpl.rcParams['axes.prop_cycle'] = mpl.cycler(color='bgrcmyk')"
   ]
  },
  {
   "cell_type": "code",
   "execution_count": 2,
   "id": "b63d3ff5-7d26-4710-8215-bd7dcee8ec8d",
   "metadata": {},
   "outputs": [],
   "source": [
    "def get_num_duplicates_and_NaNs(df, keep='first'):\n",
    "    \"\"\"\n",
    "        takes a dataframe,\n",
    "        prints number of missing values and number of duplicates\n",
    "        returns the boolean array of duplicates\n",
    "    \"\"\"\n",
    "    print(f'There are {df.isnull().values.sum()} missing values or NaNs in the DataFrame.')\n",
    "    duplicated_ = df.duplicated(keep=keep)\n",
    "    print(f'There are {duplicated_.sum()} duplicate rows in DataFrame based on all columns.')\n",
    "    return duplicated_\n",
    "\n",
    "def plot_series(df=None, column=None, series=pd.Series([]), \n",
    "                label=None, ylabel=None, title=None, start=0, end=None):\n",
    "    \"\"\"\n",
    "    Plots a certain time-series which has either been loaded in a dataframe\n",
    "    and which constitutes one of its columns or it a custom pandas series \n",
    "    created by the user. The user can define either the 'df' and the 'column' \n",
    "    or the 'series' and additionally, can also define the 'label', the \n",
    "    'ylabel', the 'title', the 'start' and the 'end' of the plot.\n",
    "    \"\"\"\n",
    "    sns.set()\n",
    "    fig, ax = plt.subplots(figsize=(30, 12))\n",
    "    ax.set_xlabel('Time', fontsize=16)\n",
    "    if column:\n",
    "        ax.plot(df[column][start:end], label=label)\n",
    "        ax.set_ylabel(ylabel, fontsize=16)\n",
    "    if series.any():\n",
    "        ax.plot(series, label=label)\n",
    "        ax.set_ylabel(ylabel, fontsize=16)\n",
    "    if label:\n",
    "        ax.legend(fontsize=16)\n",
    "    if title:\n",
    "        ax.set_title(title, fontsize=24)\n",
    "    ax.grid(True)\n",
    "    return ax"
   ]
  },
  {
   "cell_type": "code",
   "execution_count": 3,
   "id": "75b9558a-863d-48df-951b-8b6df133433e",
   "metadata": {},
   "outputs": [],
   "source": [
    "rawAL = pd.read_csv(\"../data/dat_set_3/market_data_actual_load.csv\")\n",
    "rawDA = pd.read_csv(\"../data/dat_set_3/market_data_day_ahead.csv\")\n",
    "rawRT = pd.read_csv(\"../data/dat_set_3/market_data_real_time.csv\")"
   ]
  },
  {
   "cell_type": "markdown",
   "id": "9789a736-cd13-49f2-a20f-60c36d993c31",
   "metadata": {},
   "source": [
    "## Actual Load"
   ]
  },
  {
   "cell_type": "markdown",
   "id": "a41168ca-3fef-4cfd-a340-56b98ef5bbe0",
   "metadata": {},
   "source": [
    "Preliminary work on actual load data. Check for\n",
    "* duplicates\n",
    "* NaN's"
   ]
  },
  {
   "cell_type": "code",
   "execution_count": 4,
   "id": "544c809c-af9b-46bc-9009-d2363338a6df",
   "metadata": {},
   "outputs": [],
   "source": [
    "## these are superfluous \n",
    "rawAL.drop(['label','type'],inplace=True, axis=1)"
   ]
  },
  {
   "cell_type": "code",
   "execution_count": 5,
   "id": "b97700ab-f3b7-432b-aab6-6d800ea21b99",
   "metadata": {},
   "outputs": [
    {
     "name": "stdout",
     "output_type": "stream",
     "text": [
      "<class 'pandas.core.frame.DataFrame'>\n",
      "RangeIndex: 329074 entries, 0 to 329073\n",
      "Data columns (total 2 columns):\n",
      " #   Column  Non-Null Count   Dtype  \n",
      "---  ------  --------------   -----  \n",
      " 0   time    329074 non-null  object \n",
      " 1   value   322541 non-null  float64\n",
      "dtypes: float64(1), object(1)\n",
      "memory usage: 5.0+ MB\n"
     ]
    }
   ],
   "source": [
    "rawAL.info()"
   ]
  },
  {
   "cell_type": "code",
   "execution_count": 6,
   "id": "5fa2364c-8fb4-4f83-9d97-bde366b3c9bb",
   "metadata": {},
   "outputs": [
    {
     "name": "stdout",
     "output_type": "stream",
     "text": [
      "There are 6533 missing values or NaNs in the DataFrame.\n",
      "There are 34 duplicate rows in DataFrame based on all columns.\n"
     ]
    }
   ],
   "source": [
    "duplicated_ = get_num_duplicates_and_NaNs(rawAL)"
   ]
  },
  {
   "cell_type": "code",
   "execution_count": 7,
   "id": "f199db95-e86e-4e9b-9341-dfc99f97a211",
   "metadata": {},
   "outputs": [],
   "source": [
    "## convert the time column to datetime\n",
    "\n",
    "rawAL['time'] = pd.to_datetime(rawAL['time'], utc=True, infer_datetime_format=True)"
   ]
  },
  {
   "cell_type": "code",
   "execution_count": 8,
   "id": "54bd389a-1bb2-467d-90d3-fdfe64caa31b",
   "metadata": {},
   "outputs": [],
   "source": [
    "## remove the duplicates\n",
    "\n",
    "actual_load = rawAL.drop_duplicates(keep='first', subset=['time'])"
   ]
  },
  {
   "cell_type": "code",
   "execution_count": 9,
   "id": "747761f0-f15f-4b1b-bb0e-29c8a546b655",
   "metadata": {},
   "outputs": [],
   "source": [
    "## interpolate for the NaN's\n",
    "\n",
    "actual_load.interpolate(method='linear', limit_direction='forward', inplace=True, axis=0)"
   ]
  },
  {
   "cell_type": "code",
   "execution_count": 10,
   "id": "d9800ade-4130-456d-b051-670c4bc9456d",
   "metadata": {},
   "outputs": [
    {
     "name": "stdout",
     "output_type": "stream",
     "text": [
      "There are 0 missing values or NaNs in the DataFrame.\n",
      "There are 0 duplicate rows in DataFrame based on all columns.\n"
     ]
    }
   ],
   "source": [
    "## final check: duplicates and NaN's should be gone\n",
    "\n",
    "duplicated_ = get_num_duplicates_and_NaNs(actual_load, False)"
   ]
  },
  {
   "cell_type": "code",
   "execution_count": 11,
   "id": "fa508f6f-0837-4a5a-b0fc-412afd809c10",
   "metadata": {},
   "outputs": [],
   "source": [
    "#actual_load.set_index('time', inplace=True)"
   ]
  },
  {
   "cell_type": "markdown",
   "id": "818f7a54-b87b-424a-a12a-b0644b723fc6",
   "metadata": {},
   "source": [
    "## day ahead price"
   ]
  },
  {
   "cell_type": "code",
   "execution_count": 12,
   "id": "8a85f56e-afea-4e83-979f-8020fa2c8683",
   "metadata": {},
   "outputs": [
    {
     "name": "stdout",
     "output_type": "stream",
     "text": [
      "<class 'pandas.core.frame.DataFrame'>\n",
      "RangeIndex: 26328 entries, 0 to 26327\n",
      "Data columns (total 4 columns):\n",
      " #   Column  Non-Null Count  Dtype  \n",
      "---  ------  --------------  -----  \n",
      " 0   label   26328 non-null  object \n",
      " 1   type    26328 non-null  object \n",
      " 2   time    26328 non-null  object \n",
      " 3   value   26328 non-null  float64\n",
      "dtypes: float64(1), object(3)\n",
      "memory usage: 822.9+ KB\n"
     ]
    }
   ],
   "source": [
    "rawDA.info()"
   ]
  },
  {
   "cell_type": "code",
   "execution_count": 13,
   "id": "75a959db-961e-43c0-80a8-a2fde6b1e7e0",
   "metadata": {},
   "outputs": [
    {
     "data": {
      "text/html": [
       "<div>\n",
       "<style scoped>\n",
       "    .dataframe tbody tr th:only-of-type {\n",
       "        vertical-align: middle;\n",
       "    }\n",
       "\n",
       "    .dataframe tbody tr th {\n",
       "        vertical-align: top;\n",
       "    }\n",
       "\n",
       "    .dataframe thead th {\n",
       "        text-align: right;\n",
       "    }\n",
       "</style>\n",
       "<table border=\"1\" class=\"dataframe\">\n",
       "  <thead>\n",
       "    <tr style=\"text-align: right;\">\n",
       "      <th></th>\n",
       "      <th>label</th>\n",
       "      <th>type</th>\n",
       "      <th>time</th>\n",
       "      <th>value</th>\n",
       "    </tr>\n",
       "  </thead>\n",
       "  <tbody>\n",
       "    <tr>\n",
       "      <th>0</th>\n",
       "      <td>Zone J - NEW YORK CITY (DA)</td>\n",
       "      <td>price</td>\n",
       "      <td>2020-10-27 00:00:00</td>\n",
       "      <td>18.44</td>\n",
       "    </tr>\n",
       "    <tr>\n",
       "      <th>1</th>\n",
       "      <td>Zone J - NEW YORK CITY (DA)</td>\n",
       "      <td>price</td>\n",
       "      <td>2020-10-27 01:00:00</td>\n",
       "      <td>17.83</td>\n",
       "    </tr>\n",
       "  </tbody>\n",
       "</table>\n",
       "</div>"
      ],
      "text/plain": [
       "                         label   type                 time  value\n",
       "0  Zone J - NEW YORK CITY (DA)  price  2020-10-27 00:00:00  18.44\n",
       "1  Zone J - NEW YORK CITY (DA)  price  2020-10-27 01:00:00  17.83"
      ]
     },
     "execution_count": 13,
     "metadata": {},
     "output_type": "execute_result"
    }
   ],
   "source": [
    "rawDA.head(2)"
   ]
  },
  {
   "cell_type": "code",
   "execution_count": 14,
   "id": "912b6170-5c31-4265-a739-3ae64cea3a68",
   "metadata": {},
   "outputs": [],
   "source": [
    "rawDA.drop(['label','type'], inplace=True, axis=1)"
   ]
  },
  {
   "cell_type": "code",
   "execution_count": 15,
   "id": "151755c6-2f17-454f-a07e-fa201c286ada",
   "metadata": {},
   "outputs": [],
   "source": [
    "rawDA['time'] = pd.to_datetime(rawDA['time'], utc=True, infer_datetime_format=True)"
   ]
  },
  {
   "cell_type": "code",
   "execution_count": 16,
   "id": "ecc18160-2eb0-4f15-9aef-462c4992e6b2",
   "metadata": {},
   "outputs": [
    {
     "name": "stdout",
     "output_type": "stream",
     "text": [
      "There are 0 missing values or NaNs in the DataFrame.\n",
      "There are 0 duplicate rows in DataFrame based on all columns.\n"
     ]
    }
   ],
   "source": [
    "duplicates_ = get_num_duplicates_and_NaNs(rawDA)"
   ]
  },
  {
   "cell_type": "code",
   "execution_count": 17,
   "id": "4d003be2-f729-4f2e-a334-ea84725d4148",
   "metadata": {},
   "outputs": [],
   "source": [
    "#day_ahead = rawDA.set_index('time')"
   ]
  },
  {
   "cell_type": "code",
   "execution_count": 19,
   "id": "25801c03-c0c5-4ee5-ac91-cb4c11169a13",
   "metadata": {},
   "outputs": [
    {
     "data": {
      "text/plain": [
       "26328"
      ]
     },
     "execution_count": 19,
     "metadata": {},
     "output_type": "execute_result"
    }
   ],
   "source": [
    "len(rawDA)"
   ]
  },
  {
   "cell_type": "code",
   "execution_count": 21,
   "id": "5de77bf9-219d-4fee-a78f-525a5356b96c",
   "metadata": {},
   "outputs": [],
   "source": [
    "df_final = rawDA.merge(actual_load, on=['time'], how='inner')"
   ]
  },
  {
   "cell_type": "code",
   "execution_count": 22,
   "id": "34d16d47-99e0-4af7-a2b5-49d35d144b94",
   "metadata": {},
   "outputs": [
    {
     "data": {
      "text/plain": [
       "26273"
      ]
     },
     "execution_count": 22,
     "metadata": {},
     "output_type": "execute_result"
    }
   ],
   "source": [
    "len(df_final)"
   ]
  },
  {
   "cell_type": "code",
   "execution_count": 23,
   "id": "fb00c42c-f07a-4503-9cde-b0089fe69268",
   "metadata": {},
   "outputs": [
    {
     "data": {
      "text/html": [
       "<div>\n",
       "<style scoped>\n",
       "    .dataframe tbody tr th:only-of-type {\n",
       "        vertical-align: middle;\n",
       "    }\n",
       "\n",
       "    .dataframe tbody tr th {\n",
       "        vertical-align: top;\n",
       "    }\n",
       "\n",
       "    .dataframe thead th {\n",
       "        text-align: right;\n",
       "    }\n",
       "</style>\n",
       "<table border=\"1\" class=\"dataframe\">\n",
       "  <thead>\n",
       "    <tr style=\"text-align: right;\">\n",
       "      <th></th>\n",
       "      <th>time</th>\n",
       "      <th>value_x</th>\n",
       "      <th>value_y</th>\n",
       "    </tr>\n",
       "  </thead>\n",
       "  <tbody>\n",
       "    <tr>\n",
       "      <th>0</th>\n",
       "      <td>2020-10-27 01:00:00+00:00</td>\n",
       "      <td>17.83</td>\n",
       "      <td>4137.0</td>\n",
       "    </tr>\n",
       "    <tr>\n",
       "      <th>1</th>\n",
       "      <td>2020-10-27 02:00:00+00:00</td>\n",
       "      <td>16.44</td>\n",
       "      <td>3984.0</td>\n",
       "    </tr>\n",
       "    <tr>\n",
       "      <th>2</th>\n",
       "      <td>2020-10-27 03:00:00+00:00</td>\n",
       "      <td>15.45</td>\n",
       "      <td>3895.0</td>\n",
       "    </tr>\n",
       "    <tr>\n",
       "      <th>3</th>\n",
       "      <td>2020-10-27 04:00:00+00:00</td>\n",
       "      <td>16.51</td>\n",
       "      <td>3866.0</td>\n",
       "    </tr>\n",
       "    <tr>\n",
       "      <th>4</th>\n",
       "      <td>2020-10-27 05:00:00+00:00</td>\n",
       "      <td>17.04</td>\n",
       "      <td>3909.0</td>\n",
       "    </tr>\n",
       "    <tr>\n",
       "      <th>...</th>\n",
       "      <td>...</td>\n",
       "      <td>...</td>\n",
       "      <td>...</td>\n",
       "    </tr>\n",
       "    <tr>\n",
       "      <th>26268</th>\n",
       "      <td>2023-10-27 11:00:00+00:00</td>\n",
       "      <td>22.72</td>\n",
       "      <td>5755.0</td>\n",
       "    </tr>\n",
       "    <tr>\n",
       "      <th>26269</th>\n",
       "      <td>2023-10-27 12:00:00+00:00</td>\n",
       "      <td>21.71</td>\n",
       "      <td>5753.0</td>\n",
       "    </tr>\n",
       "    <tr>\n",
       "      <th>26270</th>\n",
       "      <td>2023-10-27 13:00:00+00:00</td>\n",
       "      <td>21.22</td>\n",
       "      <td>5796.0</td>\n",
       "    </tr>\n",
       "    <tr>\n",
       "      <th>26271</th>\n",
       "      <td>2023-10-27 14:00:00+00:00</td>\n",
       "      <td>19.30</td>\n",
       "      <td>5783.0</td>\n",
       "    </tr>\n",
       "    <tr>\n",
       "      <th>26272</th>\n",
       "      <td>2023-10-27 15:00:00+00:00</td>\n",
       "      <td>17.47</td>\n",
       "      <td>5827.0</td>\n",
       "    </tr>\n",
       "  </tbody>\n",
       "</table>\n",
       "<p>26273 rows × 3 columns</p>\n",
       "</div>"
      ],
      "text/plain": [
       "                           time  value_x  value_y\n",
       "0     2020-10-27 01:00:00+00:00    17.83   4137.0\n",
       "1     2020-10-27 02:00:00+00:00    16.44   3984.0\n",
       "2     2020-10-27 03:00:00+00:00    15.45   3895.0\n",
       "3     2020-10-27 04:00:00+00:00    16.51   3866.0\n",
       "4     2020-10-27 05:00:00+00:00    17.04   3909.0\n",
       "...                         ...      ...      ...\n",
       "26268 2023-10-27 11:00:00+00:00    22.72   5755.0\n",
       "26269 2023-10-27 12:00:00+00:00    21.71   5753.0\n",
       "26270 2023-10-27 13:00:00+00:00    21.22   5796.0\n",
       "26271 2023-10-27 14:00:00+00:00    19.30   5783.0\n",
       "26272 2023-10-27 15:00:00+00:00    17.47   5827.0\n",
       "\n",
       "[26273 rows x 3 columns]"
      ]
     },
     "execution_count": 23,
     "metadata": {},
     "output_type": "execute_result"
    }
   ],
   "source": [
    "df_final.drop_duplicates(keep='first', subset=['time'])"
   ]
  },
  {
   "cell_type": "code",
   "execution_count": 25,
   "id": "6df59faf-8f25-41f0-97d0-2bc0a79ca0eb",
   "metadata": {},
   "outputs": [],
   "source": [
    "df_final.set_index('time', inplace=True)"
   ]
  },
  {
   "cell_type": "code",
   "execution_count": 26,
   "id": "b9f2bd67-552f-481c-a72a-160eb7aafefc",
   "metadata": {},
   "outputs": [
    {
     "name": "stdout",
     "output_type": "stream",
     "text": [
      "<class 'pandas.core.frame.DataFrame'>\n",
      "DatetimeIndex: 26273 entries, 2020-10-27 01:00:00+00:00 to 2023-10-27 15:00:00+00:00\n",
      "Data columns (total 2 columns):\n",
      " #   Column   Non-Null Count  Dtype  \n",
      "---  ------   --------------  -----  \n",
      " 0   value_x  26273 non-null  float64\n",
      " 1   value_y  26273 non-null  float64\n",
      "dtypes: float64(2)\n",
      "memory usage: 615.8 KB\n"
     ]
    }
   ],
   "source": [
    "df_final.info()"
   ]
  },
  {
   "cell_type": "code",
   "execution_count": null,
   "id": "a493f46e-867c-4f38-90a1-8ba531853cf8",
   "metadata": {},
   "outputs": [],
   "source": []
  }
 ],
 "metadata": {
  "kernelspec": {
   "display_name": "Python 3 (ipykernel)",
   "language": "python",
   "name": "python3"
  },
  "language_info": {
   "codemirror_mode": {
    "name": "ipython",
    "version": 3
   },
   "file_extension": ".py",
   "mimetype": "text/x-python",
   "name": "python",
   "nbconvert_exporter": "python",
   "pygments_lexer": "ipython3",
   "version": "3.11.0"
  }
 },
 "nbformat": 4,
 "nbformat_minor": 5
}
