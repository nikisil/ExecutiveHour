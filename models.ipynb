{
 "cells": [
  {
   "attachments": {},
   "cell_type": "markdown",
   "metadata": {},
   "source": [
    "## This is where we will put all of our best-performing models. For now, here is the baseline model, which will be to simply output the price at that hour the day before (extremely simple, but yet, as we know, probably extremely accurate too)"
   ]
  },
  {
   "cell_type": "code",
   "execution_count": 1,
   "metadata": {},
   "outputs": [],
   "source": [
    "import pandas as pd\n",
    "import numpy as np\n",
    "import matplotlib.pyplot as plt\n",
    "\n",
    "from datetime import datetime, timedelta\n",
    "from seaborn import set_style\n",
    "set_style(\"whitegrid\")"
   ]
  },
  {
   "cell_type": "code",
   "execution_count": 81,
   "metadata": {},
   "outputs": [],
   "source": [
    "all_dat = pd.read_csv('rouz/rouz_final_DF_v1.csv',parse_dates=['time','date'])\n",
    "all_dat['time'] = all_dat['time'].dt.tz_localize(None)"
   ]
  },
  {
   "cell_type": "code",
   "execution_count": 82,
   "metadata": {},
   "outputs": [],
   "source": [
    "def baseline(data,pred_date):\n",
    "\n",
    "    # data is the pandas dataframe being used (this assumes we are using rouz's format)\n",
    "    # pred_date is a string, which can be written as ‘YYYY-MM-DD’ or ‘YYYY-MM-DDTHH:MinMin'\n",
    "\n",
    "    prev_day = np.datetime64(pred_date) - np.timedelta64(1,'D')\n",
    "    index = data.loc[data['time'] == prev_day].index.to_list()[0]\n",
    "    return data[index:index+24]['price']"
   ]
  }
 ],
 "metadata": {
  "kernelspec": {
   "display_name": "Python 3",
   "language": "python",
   "name": "python3"
  },
  "language_info": {
   "codemirror_mode": {
    "name": "ipython",
    "version": 3
   },
   "file_extension": ".py",
   "mimetype": "text/x-python",
   "name": "python",
   "nbconvert_exporter": "python",
   "pygments_lexer": "ipython3",
   "version": "3.11.6"
  },
  "orig_nbformat": 4
 },
 "nbformat": 4,
 "nbformat_minor": 2
}
